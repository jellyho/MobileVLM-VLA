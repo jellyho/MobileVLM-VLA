{
 "cells": [
  {
   "cell_type": "code",
   "execution_count": 1,
   "id": "ff70a88e-cd9b-40c4-a5cb-c0d829b2a1f6",
   "metadata": {},
   "outputs": [
    {
     "name": "stdout",
     "output_type": "stream",
     "text": [
      "[2025-01-09 17:17:41,763] [INFO] [real_accelerator.py:110:get_accelerator] Setting ds_accelerator to cuda (auto detect)\n"
     ]
    },
    {
     "name": "stderr",
     "output_type": "stream",
     "text": [
      "2025-01-09 17:17:43.309818: I tensorflow/core/util/port.cc:113] oneDNN custom operations are on. You may see slightly different numerical results due to floating-point round-off errors from different computation orders. To turn them off, set the environment variable `TF_ENABLE_ONEDNN_OPTS=0`.\n",
      "2025-01-09 17:17:43.339624: E external/local_xla/xla/stream_executor/cuda/cuda_dnn.cc:9261] Unable to register cuDNN factory: Attempting to register factory for plugin cuDNN when one has already been registered\n",
      "2025-01-09 17:17:43.339660: E external/local_xla/xla/stream_executor/cuda/cuda_fft.cc:607] Unable to register cuFFT factory: Attempting to register factory for plugin cuFFT when one has already been registered\n",
      "2025-01-09 17:17:43.340558: E external/local_xla/xla/stream_executor/cuda/cuda_blas.cc:1515] Unable to register cuBLAS factory: Attempting to register factory for plugin cuBLAS when one has already been registered\n",
      "2025-01-09 17:17:43.346029: I tensorflow/core/platform/cpu_feature_guard.cc:182] This TensorFlow binary is optimized to use available CPU instructions in performance-critical operations.\n",
      "To enable the following instructions: AVX2 AVX512F AVX512_VNNI AVX512_BF16 FMA, in other operations, rebuild TensorFlow with the appropriate compiler flags.\n",
      "2025-01-09 17:17:45.812208: W tensorflow/compiler/tf2tensorrt/utils/py_utils.cc:38] TF-TRT Warning: Could not find TensorRT\n"
     ]
    }
   ],
   "source": [
    "from spatialvla.mobilevlm.model.bimanual import load_twinvla_from_singlevla, load_twinvla"
   ]
  },
  {
   "cell_type": "code",
   "execution_count": 2,
   "id": "34d89004-5815-41d5-8d44-ac01a97fde0f",
   "metadata": {},
   "outputs": [
    {
     "name": "stderr",
     "output_type": "stream",
     "text": [
      "You are using a model of type spatialvla to instantiate a model of type twinvla. This is not supported for all configurations of models and can yield errors.\n"
     ]
    },
    {
     "name": "stdout",
     "output_type": "stream",
     "text": [
      "Loading with torch.bfloat16\n"
     ]
    },
    {
     "name": "stderr",
     "output_type": "stream",
     "text": [
      "/home/jellyho/miniconda3/envs/mobilevlm/lib/python3.10/site-packages/huggingface_hub/file_download.py:1142: FutureWarning: `resume_download` is deprecated and will be removed in version 1.0.0. Downloads always resume when possible. If you want to force a new download, use `force_download=True`.\n",
      "  warnings.warn(\n",
      "You are resizing the embedding layer without providing a `pad_to_multiple_of` parameter. This means that the new embedding dimension will be 32000. This might induce some performance reduction as *Tensor Cores* will not be available. For more details about this, or help on choosing the correct value for resizing, refer to this guide: https://docs.nvidia.com/deeplearning/performance/dl-performance-matrix-multiplication/index.html#requirements-tc\n"
     ]
    }
   ],
   "source": [
    "tokenizer, model, image_processor, _ = load_twinvla_from_singlevla('checkpoints/libero_object_octo_full_v2')"
   ]
  },
  {
   "cell_type": "code",
   "execution_count": 2,
   "id": "aa5599c9-6f79-475f-a910-2d84a2230356",
   "metadata": {},
   "outputs": [
    {
     "name": "stdout",
     "output_type": "stream",
     "text": [
      "Loading with torch.bfloat16\n"
     ]
    },
    {
     "name": "stderr",
     "output_type": "stream",
     "text": [
      "/home/jellyho/miniconda3/envs/mobilevlm/lib/python3.10/site-packages/huggingface_hub/file_download.py:1142: FutureWarning: `resume_download` is deprecated and will be removed in version 1.0.0. Downloads always resume when possible. If you want to force a new download, use `force_download=True`.\n",
      "  warnings.warn(\n"
     ]
    }
   ],
   "source": [
    "tokenizer, twinvla, image_processor, dataset_statistics = load_twinvla('checkpoints/twinvla_transfer_tissue_v1')"
   ]
  },
  {
   "cell_type": "markdown",
   "id": "c23a8cc4-254f-40b6-82d1-f5c715eec2f6",
   "metadata": {},
   "source": [
    "### Trainig Code Test"
   ]
  },
  {
   "cell_type": "code",
   "execution_count": 3,
   "id": "bf883613-2345-4f03-ba70-c65f5784f955",
   "metadata": {},
   "outputs": [],
   "source": [
    "from spatialvla.datasets import RLDSBatchTransform, RLDSDataset\n",
    "from spatialvla.mobilevlm.model.mobilevlm import load_pretrained_vlm_for_vla, load_vla\n",
    "from scripts.spatialvla_config import ModelArguments, TrainingArguments\n",
    "import transformers\n",
    "from spatialvla.datasets.rlds.utils.data_utils import PaddedCollatorForActionPrediction\n",
    "from torch.utils.data import DataLoader\n",
    "from spatialvla.mobilevlm.action_tokenizer import ActionTokenizer\n",
    "import sys\n",
    "import torch\n",
    "import argparse\n",
    "from PIL import Image\n",
    "from pathlib import Path\n",
    "import numpy as np\n",
    "from spatialvla.mobilevlm.model.mobilevlm import load_vla, load_pretrained_model\n",
    "from spatialvla.mobilevlm.conversation import conv_templates, SeparatorStyle\n",
    "from spatialvla.mobilevlm.utils import disable_torch_init, process_images, tokenizer_image_token, KeywordsStoppingCriteria\n",
    "from spatialvla.mobilevlm.constants import IMAGE_TOKEN_INDEX, DEFAULT_IMAGE_TOKEN\n",
    "from dataclasses import dataclass\n",
    "from pathlib import Path\n",
    "from typing import Any, Dict, Tuple, Type\n",
    "import numpy as np\n",
    "import torch\n",
    "import copy\n",
    "from PIL import Image\n",
    "from torch.utils.data import Dataset, IterableDataset\n",
    "from transformers import PreTrainedTokenizerBase\n",
    "from transformers import AutoTokenizer, BitsAndBytesConfig\n",
    "from spatialvla.mobilevlm.utils import disable_torch_init, process_images, tokenizer_image_token, KeywordsStoppingCriteria\n",
    "# from prismatic.models.backbones.llm.prompting import PromptBuilder\n",
    "# from prismatic.models.backbones.vision import ImageTransform\n",
    "from spatialvla.mobilevlm.constants import IGNORE_INDEX, IMAGE_TOKEN_INDEX, DEFAULT_IMAGE_TOKEN, DEFAULT_IM_START_TOKEN, DEFAULT_IM_END_TOKEN\n",
    "from spatialvla.mobilevlm.conversation import conv_templates, SeparatorStyle\n",
    "from spatialvla.datasets.rlds.utils.data_utils import tree_map\n",
    "# from prismatic.vla.action_tokenizer import ActionTokenizer\n",
    "from spatialvla.datasets.rlds import make_interleaved_dataset, make_single_dataset\n",
    "from spatialvla.datasets.rlds.oxe import OXE_NAMED_MIXTURES, get_oxe_dataset_kwargs_and_weights\n",
    "from spatialvla.datasets.rlds.utils.data_utils import NormalizationType\n",
    "from transformers import PreTrainedTokenizerBase"
   ]
  },
  {
   "cell_type": "code",
   "execution_count": 5,
   "id": "2bf98317-f7ef-4fe3-ab3a-16237826ce2f",
   "metadata": {},
   "outputs": [
    {
     "name": "stdout",
     "output_type": "stream",
     "text": [
      "{'name': 'transfer_tissue', 'data_dir': '/home/shared/rlds_datasets', 'image_obs_keys': {'primary': 'image'}, 'absolute_action_mask': [False, False, False, False, False, False, True, False, False, False, False, False, False, True], 'action_normalization_mask': [True, True, True, True, True, True, False, True, True, True, True, True, True, False], 'action_proprio_normalization_type': <NormalizationType.NORMAL: 'normal'>, 'language_key': 'language_instruction', 'standardize_fn': <function lg_delta_ee_transform at 0x14d52210aa70>}\n"
     ]
    },
    {
     "name": "stderr",
     "output_type": "stream",
     "text": [
      "2025-01-09 17:18:51.441183: I tensorflow/core/grappler/optimizers/data/replicate_on_split.cc:32] Running replicate on split optimization\n",
      "2025-01-09 17:18:51.580253: I tensorflow/core/grappler/optimizers/data/replicate_on_split.cc:32] Running replicate on split optimization\n"
     ]
    },
    {
     "name": "stdout",
     "output_type": "stream",
     "text": [
      "\n",
      "######################################################################################\n",
      "# Loading the following 1 datasets (incl. sampling weight):                         #\n",
      "# transfer_tissue: =========================================================1.000000 #\n",
      "######################################################################################\n",
      "\n",
      "Threads per Dataset:  [1]\n",
      "Reads per Dataset:  [1]\n",
      "Constructing datasets...\n"
     ]
    },
    {
     "name": "stderr",
     "output_type": "stream",
     "text": [
      "2025-01-09 17:18:51.970955: I tensorflow/core/grappler/optimizers/data/replicate_on_split.cc:32] Running replicate on split optimization\n"
     ]
    },
    {
     "name": "stdout",
     "output_type": "stream",
     "text": [
      "Applying frame transforms on dataset...\n"
     ]
    }
   ],
   "source": [
    "batch_transform = RLDSBatchTransform(\n",
    "    tokenizer,\n",
    "    image_processor,\n",
    "    use_state_input=False,\n",
    "    window_size=1,\n",
    "    future_action_window_size=7,\n",
    ")\n",
    "vla_dataset = RLDSDataset(\n",
    "    data_root_dir='/home/shared/rlds_datasets',\n",
    "    data_mix='transfer_tissue',\n",
    "    batch_transform=batch_transform,\n",
    "    shuffle_buffer_size=100,\n",
    "    window_size=1,\n",
    "    future_action_window_size=7,\n",
    "    train=True,\n",
    "    use_state_input=False\n",
    ")\n",
    "collator = PaddedCollatorForActionPrediction(\n",
    "    tokenizer.model_max_length, \n",
    "    tokenizer.pad_token_id, \n",
    "    padding_side='right', \n",
    "    use_state_input=False,\n",
    "    use_label=False\n",
    ")\n",
    "dataloader = DataLoader(\n",
    "    vla_dataset,\n",
    "    batch_size=8,\n",
    "    sampler=None,\n",
    "    collate_fn=collator,\n",
    "    num_workers=0,  # Important =>> Set to 0 if using RLDS; TFDS rolls its own parallelism!\n",
    ")"
   ]
  },
  {
   "cell_type": "code",
   "execution_count": 3,
   "id": "e5f16bbc-463d-4b6f-a187-e38afaa2dcec",
   "metadata": {},
   "outputs": [],
   "source": [
    "model.config.training=False\n",
    "model.config.save_pretrained('checkpoints/twinvla')\n",
    "model.save_pretrained('checkpoints/twinvla')"
   ]
  },
  {
   "cell_type": "code",
   "execution_count": 4,
   "id": "de07103b-3d78-4f81-8115-ba22123678f1",
   "metadata": {},
   "outputs": [
    {
     "data": {
      "text/plain": [
       "('checkpoints/twinvla/tokenizer_config.json',\n",
       " 'checkpoints/twinvla/special_tokens_map.json',\n",
       " 'checkpoints/twinvla/tokenizer.model',\n",
       " 'checkpoints/twinvla/added_tokens.json')"
      ]
     },
     "execution_count": 4,
     "metadata": {},
     "output_type": "execute_result"
    }
   ],
   "source": [
    "tokenizer.save_pretrained('checkpoints/twinvla')"
   ]
  },
  {
   "cell_type": "code",
   "execution_count": 6,
   "id": "aff44720-4afd-477c-b31a-501fa1bdf2b9",
   "metadata": {},
   "outputs": [],
   "source": [
    "for d in dataloader:\n",
    "    batch = d\n",
    "    break\n",
    "device_id = 0\n",
    "input_ids=batch['input_ids'].to(device_id)\n",
    "images=batch['pixel_values'].to(device_id)\n",
    "attention_mask=batch['attention_mask'].to(device_id)\n",
    "actions=batch['action'].to(device_id)\n",
    "use_cache=True\n",
    "# states=batch['proprio'].to(device_id)\n",
    "past_key_values = None\n",
    "# labels = batch['labels'].to(device_id)"
   ]
  },
  {
   "cell_type": "code",
   "execution_count": null,
   "id": "f1ecac68-2a5a-47c0-b66e-163c2632e53b",
   "metadata": {},
   "outputs": [],
   "source": [
    "import torch\n",
    "if torch.cuda.is_available():\n",
    "    # Get the current GPU memory usage\n",
    "    current_memory = torch.cuda.memory_allocated()  # Memory currently allocated by tensors\n",
    "    reserved_memory = torch.cuda.memory_reserved()  # Total memory reserved by PyTorch\n",
    "    max_memory = torch.cuda.max_memory_allocated()  # Peak memory usage for allocated tensors\n",
    "\n",
    "    # Convert to MB for readability\n",
    "    current_memory_mb = current_memory / (1024 ** 2)\n",
    "    reserved_memory_mb = reserved_memory / (1024 ** 2)\n",
    "    max_memory_mb = max_memory / (1024 ** 2)\n",
    "\n",
    "    print(f\"Current Memory Allocated: {current_memory_mb:.2f} MB\")\n",
    "    print(f\"Reserved Memory: {reserved_memory_mb:.2f} MB\")\n",
    "    print(f\"Peak Memory Allocated: {max_memory_mb:.2f} MB\")"
   ]
  },
  {
   "cell_type": "code",
   "execution_count": 9,
   "id": "e7f1de84-0069-48df-9f51-4e33f84cee7c",
   "metadata": {},
   "outputs": [],
   "source": [
    "with torch.autocast('cuda', dtype=torch.bfloat16):\n",
    "    action, attn  = twinvla.predict_action(\n",
    "        input_ids=input_ids,\n",
    "        attention_mask=attention_mask,\n",
    "        images=images,\n",
    "        output_attn=True\n",
    "        # actions=actions\n",
    "    )"
   ]
  },
  {
   "cell_type": "code",
   "execution_count": 81,
   "id": "620c37b7-2416-4a98-88a0-06d3b9db9fca",
   "metadata": {},
   "outputs": [],
   "source": [
    "def attn_viz_array(attn_mat, width, head=0):\n",
    "    seq_len = attn[0].shape[-1]\n",
    "    half_len = seq_len // 2\n",
    "    matrix_list = torch.zeros((16 , 24, half_len))\n",
    "    for i in range(24):\n",
    "        for h in range(16):\n",
    "            matrix_list[h, i] = attn_mat[i][0, h][half_len-1, half_len:]\n",
    "    matrix_list = matrix_list.detach().cpu().numpy()\n",
    "    seq_len = matrix_list.shape[-1]\n",
    "    layers = 24\n",
    "    dpi = 100\n",
    "    figsize = (width / dpi, width / seq_len * layers / dpi)\n",
    "    fig, ax = plt.subplots(figsize=figsize, dpi=dpi)\n",
    "    ax.imshow(matrix_list[head], vmin=0.0, vmax=0.01, interpolation='nearest')\n",
    "    ax.axis('off')\n",
    "    fig.tight_layout(pad=0)  # Remove padding between the figure and the edges\n",
    "    fig.canvas.draw()\n",
    "    image_array = np.frombuffer(fig.canvas.tostring_rgb(), dtype=np.uint8)\n",
    "    image_array = image_array.reshape(fig.canvas.get_width_height()[::-1] + (3,))\n",
    "    plt.close(fig)\n",
    "    return image_array"
   ]
  },
  {
   "cell_type": "code",
   "execution_count": 50,
   "id": "abfb701a-6fa6-4eb6-b579-c988319b29b3",
   "metadata": {},
   "outputs": [],
   "source": [
    "def visualize_attention(attn_mat):\n",
    "    seq_len = attn[0].shape[-1]\n",
    "    half_len = seq_len // 2\n",
    "    matrix_list = torch.zeros((16 , 24, half_len))\n",
    "    for i in range(24):\n",
    "        for h in range(16):\n",
    "            # attn_mat = attn[i][0, j]\n",
    "            matrix_list[h, i] = attn_mat[i][0, h][half_len-1, half_len:]\n",
    "    return matrix_list"
   ]
  },
  {
   "cell_type": "code",
   "execution_count": 82,
   "id": "bd5bf318-1e53-4526-a614-4f5dde2ec7e8",
   "metadata": {},
   "outputs": [
    {
     "name": "stderr",
     "output_type": "stream",
     "text": [
      "/tmp/ipykernel_2793302/1747751883.py:20: MatplotlibDeprecationWarning: The tostring_rgb function was deprecated in Matplotlib 3.8 and will be removed in 3.10. Use buffer_rgba instead.\n",
      "  image_array = np.frombuffer(fig.canvas.tostring_rgb(), dtype=np.uint8)\n"
     ]
    }
   ],
   "source": [
    "attn_mat = attn_viz_array(attn, 400)"
   ]
  },
  {
   "cell_type": "code",
   "execution_count": 83,
   "id": "7f8ee8a7-a54f-4af6-b24a-0f31ea3f3530",
   "metadata": {},
   "outputs": [
    {
     "data": {
      "text/html": [
       "<table class=\"show_images\" style=\"border-spacing:0px;\"><tr><td style=\"padding:1px;\"><img width=\"400\" height=\"45\" style=\"image-rendering:auto; object-fit:cover;\" src=\"data:image/png;base64,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\"/></td></tr></table>"
      ],
      "text/plain": [
       "<IPython.core.display.HTML object>"
      ]
     },
     "metadata": {},
     "output_type": "display_data"
    }
   ],
   "source": [
    "import mediapy\n",
    "mediapy.show_image(attn_mat)"
   ]
  },
  {
   "cell_type": "code",
   "execution_count": 64,
   "id": "6181c18f-d417-4b8a-90ee-7b29ee71e528",
   "metadata": {},
   "outputs": [
    {
     "data": {
      "text/plain": [
       "(16, 24, 211)"
      ]
     },
     "execution_count": 64,
     "metadata": {},
     "output_type": "execute_result"
    }
   ],
   "source": [
    "attn_mat.shape"
   ]
  },
  {
   "cell_type": "code",
   "execution_count": 63,
   "id": "d418fa5e-421a-43d8-a72c-1e935dc29fdb",
   "metadata": {},
   "outputs": [
    {
     "data": {
      "image/png": "[encoded data removed]",
      "text/plain": [
       "<Figure size 3000x1000 with 1 Axes>"
      ]
     },
     "metadata": {},
     "output_type": "display_data"
    }
   ],
   "source": [
    "import matplotlib.pyplot as plt\n",
    "\n",
    "# plt.imshow(attn_mat[0]//"
   ]
  },
  {
   "cell_type": "code",
   "execution_count": 45,
   "id": "2d32614e-048a-43f0-ac9b-90da2ee08952",
   "metadata": {},
   "outputs": [
    {
     "data": {
      "image/png": "[encoded data removed]",
      "text/plain": [
       "<Figure size 1000x1000 with 1 Axes>"
      ]
     },
     "metadata": {},
     "output_type": "display_data"
    }
   ],
   "source": [
    "plt.figure(figsize=(10, 10))  # Set figure size (width, height in inches)\n",
    "plt.imshow(attn[-1][0][0][0:100].detach().cpu().float().numpy(), interpolation='nearest')\n",
    "plt.axis('off')  # Turn off axis\n",
    "plt.show()"
   ]
  }
 ],
 "metadata": {
  "kernelspec": {
   "display_name": "Python 3 (ipykernel)",
   "language": "python",
   "name": "python3"
  },
  "language_info": {
   "codemirror_mode": {
    "name": "ipython",
    "version": 3
   },
   "file_extension": ".py",
   "mimetype": "text/x-python",
   "name": "python",
   "nbconvert_exporter": "python",
   "pygments_lexer": "ipython3",
   "version": "3.10.15"
  }
 },
 "nbformat": 4,
 "nbformat_minor": 5
}
