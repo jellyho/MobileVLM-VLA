{
 "cells": [
  {
   "cell_type": "code",
   "execution_count": 1,
   "id": "6992d412-4595-40c4-906e-c05bba590d90",
   "metadata": {},
   "outputs": [
    {
     "name": "stdout",
     "output_type": "stream",
     "text": [
      "Number of GPUs available: 1\n",
      "GPU 0: NVIDIA L40S\n",
      "Using device: cuda:0\n"
     ]
    }
   ],
   "source": [
    "import os\n",
    "\n",
    "# Restrict PyTorch to only see GPU 0\n",
    "os.environ[\"CUDA_VISIBLE_DEVICES\"] = \"0\"\n",
    "import torch\n",
    "\n",
    "if torch.cuda.is_available():\n",
    "    print(f\"Number of GPUs available: {torch.cuda.device_count()}\")\n",
    "    for i in range(torch.cuda.device_count()):\n",
    "        print(f\"GPU {i}: {torch.cuda.get_device_name(i)}\")\n",
    "else:\n",
    "    print(\"CUDA is not available, using CPU.\")\n",
    "device = torch.device(\"cuda:0\" if torch.cuda.is_available() else \"cpu\")\n",
    "print(f\"Using device: {device}\")"
   ]
  },
  {
   "cell_type": "code",
   "execution_count": 2,
   "id": "ff70a88e-cd9b-40c4-a5cb-c0d829b2a1f6",
   "metadata": {},
   "outputs": [
    {
     "name": "stdout",
     "output_type": "stream",
     "text": [
      "[2025-01-20 13:29:58,353] [INFO] [real_accelerator.py:110:get_accelerator] Setting ds_accelerator to cuda (auto detect)\n"
     ]
    },
    {
     "name": "stderr",
     "output_type": "stream",
     "text": [
      "2025-01-20 13:29:58.757105: I tensorflow/core/util/port.cc:113] oneDNN custom operations are on. You may see slightly different numerical results due to floating-point round-off errors from different computation orders. To turn them off, set the environment variable `TF_ENABLE_ONEDNN_OPTS=0`.\n",
      "2025-01-20 13:29:58.786207: E external/local_xla/xla/stream_executor/cuda/cuda_dnn.cc:9261] Unable to register cuDNN factory: Attempting to register factory for plugin cuDNN when one has already been registered\n",
      "2025-01-20 13:29:58.786244: E external/local_xla/xla/stream_executor/cuda/cuda_fft.cc:607] Unable to register cuFFT factory: Attempting to register factory for plugin cuFFT when one has already been registered\n",
      "2025-01-20 13:29:58.786979: E external/local_xla/xla/stream_executor/cuda/cuda_blas.cc:1515] Unable to register cuBLAS factory: Attempting to register factory for plugin cuBLAS when one has already been registered\n",
      "2025-01-20 13:29:58.792246: I tensorflow/core/platform/cpu_feature_guard.cc:182] This TensorFlow binary is optimized to use available CPU instructions in performance-critical operations.\n",
      "To enable the following instructions: AVX2 AVX512F AVX512_VNNI AVX512_BF16 FMA, in other operations, rebuild TensorFlow with the appropriate compiler flags.\n",
      "2025-01-20 13:30:00.672704: W tensorflow/compiler/tf2tensorrt/utils/py_utils.cc:38] TF-TRT Warning: Could not find TensorRT\n"
     ]
    }
   ],
   "source": [
    "from spatialvla.mobilevlm.model.bimanual import load_twinvla_from_singlevla, load_twinvla"
   ]
  },
  {
   "cell_type": "code",
   "execution_count": 2,
   "id": "34d89004-5815-41d5-8d44-ac01a97fde0f",
   "metadata": {},
   "outputs": [
    {
     "name": "stderr",
     "output_type": "stream",
     "text": [
      "You are using a model of type spatialvla to instantiate a model of type twinvla. This is not supported for all configurations of models and can yield errors.\n"
     ]
    },
    {
     "name": "stdout",
     "output_type": "stream",
     "text": [
      "Loading with torch.bfloat16\n"
     ]
    },
    {
     "name": "stderr",
     "output_type": "stream",
     "text": [
      "/home/jellyho/miniconda3/envs/mobilevlm/lib/python3.10/site-packages/huggingface_hub/file_download.py:1142: FutureWarning: `resume_download` is deprecated and will be removed in version 1.0.0. Downloads always resume when possible. If you want to force a new download, use `force_download=True`.\n",
      "  warnings.warn(\n",
      "You are resizing the embedding layer without providing a `pad_to_multiple_of` parameter. This means that the new embedding dimension will be 32000. This might induce some performance reduction as *Tensor Cores* will not be available. For more details about this, or help on choosing the correct value for resizing, refer to this guide: https://docs.nvidia.com/deeplearning/performance/dl-performance-matrix-multiplication/index.html#requirements-tc\n"
     ]
    }
   ],
   "source": [
    "tokenizer, model, image_processor, _ = load_twinvla_from_singlevla('checkpoints/libero_object_octo_full_v2')"
   ]
  },
  {
   "cell_type": "code",
   "execution_count": 3,
   "id": "aa5599c9-6f79-475f-a910-2d84a2230356",
   "metadata": {},
   "outputs": [
    {
     "name": "stdout",
     "output_type": "stream",
     "text": [
      "Loading with torch.bfloat16\n"
     ]
    },
    {
     "name": "stderr",
     "output_type": "stream",
     "text": [
      "/home/jellyho/miniconda3/envs/mobilevlm/lib/python3.10/site-packages/huggingface_hub/file_download.py:1142: FutureWarning: `resume_download` is deprecated and will be removed in version 1.0.0. Downloads always resume when possible. If you want to force a new download, use `force_download=True`.\n",
      "  warnings.warn(\n"
     ]
    }
   ],
   "source": [
    "tokenizer, twinvla, image_processor, dataset_statistics = load_twinvla('checkpoints/ablation_twinvla_full')"
   ]
  },
  {
   "cell_type": "markdown",
   "id": "c23a8cc4-254f-40b6-82d1-f5c715eec2f6",
   "metadata": {},
   "source": [
    "### Trainig Code Test"
   ]
  },
  {
   "cell_type": "code",
   "execution_count": 4,
   "id": "bf883613-2345-4f03-ba70-c65f5784f955",
   "metadata": {},
   "outputs": [],
   "source": [
    "from spatialvla.datasets import RLDSBatchTransform, RLDSDataset\n",
    "from spatialvla.mobilevlm.model.mobilevlm import load_pretrained_vlm_for_vla, load_vla\n",
    "from scripts.spatialvla_config import ModelArguments, TrainingArguments\n",
    "import transformers\n",
    "from spatialvla.datasets.rlds.utils.data_utils import PaddedCollatorForActionPrediction\n",
    "from torch.utils.data import DataLoader\n",
    "from spatialvla.mobilevlm.action_tokenizer import ActionTokenizer\n",
    "import sys\n",
    "import torch\n",
    "import argparse\n",
    "from PIL import Image\n",
    "from pathlib import Path\n",
    "import numpy as np\n",
    "from spatialvla.mobilevlm.model.mobilevlm import load_vla, load_pretrained_model\n",
    "from spatialvla.mobilevlm.conversation import conv_templates, SeparatorStyle\n",
    "from spatialvla.mobilevlm.utils import disable_torch_init, process_images, tokenizer_image_token, KeywordsStoppingCriteria\n",
    "from spatialvla.mobilevlm.constants import IMAGE_TOKEN_INDEX, DEFAULT_IMAGE_TOKEN\n",
    "from dataclasses import dataclass\n",
    "from pathlib import Path\n",
    "from typing import Any, Dict, Tuple, Type\n",
    "import numpy as np\n",
    "import torch\n",
    "import copy\n",
    "from PIL import Image\n",
    "from torch.utils.data import Dataset, IterableDataset\n",
    "from transformers import PreTrainedTokenizerBase\n",
    "from transformers import AutoTokenizer, BitsAndBytesConfig\n",
    "from spatialvla.mobilevlm.utils import disable_torch_init, process_images, tokenizer_image_token, KeywordsStoppingCriteria\n",
    "# from prismatic.models.backbones.llm.prompting import PromptBuilder\n",
    "# from prismatic.models.backbones.vision import ImageTransform\n",
    "from spatialvla.mobilevlm.constants import IGNORE_INDEX, IMAGE_TOKEN_INDEX, DEFAULT_IMAGE_TOKEN, DEFAULT_IM_START_TOKEN, DEFAULT_IM_END_TOKEN\n",
    "from spatialvla.mobilevlm.conversation import conv_templates, SeparatorStyle\n",
    "from spatialvla.datasets.rlds.utils.data_utils import tree_map\n",
    "# from prismatic.vla.action_tokenizer import ActionTokenizer\n",
    "from spatialvla.datasets.rlds import make_interleaved_dataset, make_single_dataset\n",
    "from spatialvla.datasets.rlds.oxe import OXE_NAMED_MIXTURES, get_oxe_dataset_kwargs_and_weights\n",
    "from spatialvla.datasets.rlds.utils.data_utils import NormalizationType\n",
    "from transformers import PreTrainedTokenizerBase"
   ]
  },
  {
   "cell_type": "code",
   "execution_count": 5,
   "id": "2bf98317-f7ef-4fe3-ab3a-16237826ce2f",
   "metadata": {},
   "outputs": [
    {
     "name": "stdout",
     "output_type": "stream",
     "text": [
      "{'name': 'transfer_cup', 'data_dir': '/home/shared', 'image_obs_keys': {'primary': 'image', 'secondary': None}, 'absolute_action_mask': [False, False, False, False, False, False, True, False, False, False, False, False, False, True], 'action_normalization_mask': [True, True, True, True, True, True, False, True, True, True, True, True, True, False], 'action_proprio_normalization_type': <NormalizationType.NORMAL: 'normal'>, 'language_key': 'language_instruction', 'standardize_fn': <function lg_delta_ee_transform at 0x152d3d02add0>}\n"
     ]
    },
    {
     "name": "stderr",
     "output_type": "stream",
     "text": [
      "2025-01-20 13:30:54.849589: I tensorflow/core/grappler/optimizers/data/replicate_on_split.cc:32] Running replicate on split optimization\n",
      "2025-01-20 13:30:55.495255: I tensorflow/core/grappler/optimizers/data/replicate_on_split.cc:32] Running replicate on split optimization\n"
     ]
    },
    {
     "name": "stdout",
     "output_type": "stream",
     "text": [
      "\n",
      "######################################################################################\n",
      "# Loading the following 1 datasets (incl. sampling weight):                         #\n",
      "# transfer_cup: ============================================================1.000000 #\n",
      "######################################################################################\n",
      "\n",
      "Threads per Dataset:  [1]\n",
      "Reads per Dataset:  [1]\n",
      "Constructing datasets...\n"
     ]
    },
    {
     "name": "stderr",
     "output_type": "stream",
     "text": [
      "2025-01-20 13:30:55.881897: I tensorflow/core/grappler/optimizers/data/replicate_on_split.cc:32] Running replicate on split optimization\n"
     ]
    },
    {
     "name": "stdout",
     "output_type": "stream",
     "text": [
      "Applying frame transforms on dataset...\n"
     ]
    }
   ],
   "source": [
    "batch_transform = RLDSBatchTransform(\n",
    "    tokenizer,\n",
    "    image_processor,\n",
    "    use_state_input=False,\n",
    "    window_size=1,\n",
    "    future_action_window_size=7,\n",
    "    # use_hz_input=True\n",
    ")\n",
    "vla_dataset = RLDSDataset(\n",
    "    data_root_dir='/home/shared',\n",
    "    data_mix='transfer_cup',\n",
    "    batch_transform=batch_transform,\n",
    "    shuffle_buffer_size=100,\n",
    "    window_size=1,\n",
    "    future_action_window_size=7,\n",
    "    train=True,\n",
    "    use_state_input=False\n",
    ")\n",
    "collator = PaddedCollatorForActionPrediction(\n",
    "    tokenizer.model_max_length, \n",
    "    tokenizer.pad_token_id, \n",
    "    padding_side='right', \n",
    "    use_state_input=False,\n",
    "    use_label=False,\n",
    "    # use_hz_input=True\n",
    ")\n",
    "dataloader = DataLoader(\n",
    "    vla_dataset,\n",
    "    batch_size=8,\n",
    "    sampler=None,\n",
    "    collate_fn=collator,\n",
    "    num_workers=0,  # Important =>> Set to 0 if using RLDS; TFDS rolls its own parallelism!\n",
    ")"
   ]
  },
  {
   "cell_type": "code",
   "execution_count": 6,
   "id": "555ffc2d-ac83-48ab-bad8-196510870011",
   "metadata": {},
   "outputs": [
    {
     "name": "stdout",
     "output_type": "stream",
     "text": [
      "Parameter containing:\n",
      "tensor([[ 0.0100, -0.0002,  0.0330,  ...,  0.0193, -0.0142, -0.0138],\n",
      "        [ 0.0022, -0.0052, -0.0093,  ...,  0.0143,  0.0103, -0.0067],\n",
      "        [-0.0330,  0.0240,  0.0253,  ...,  0.0403,  0.0176,  0.0177],\n",
      "        ...,\n",
      "        [ 0.0069,  0.0168,  0.0124,  ..., -0.0157, -0.0100, -0.0297],\n",
      "        [ 0.0086,  0.0070,  0.0038,  ..., -0.0142, -0.0206,  0.0013],\n",
      "        [-0.0085, -0.0086, -0.0081,  ...,  0.0048,  0.0059,  0.0220]],\n",
      "       device='cuda:0', dtype=torch.bfloat16, requires_grad=True)\n"
     ]
    }
   ],
   "source": [
    "for k in twinvla.model_r.layers[1].self_attn.v_proj.parameters():\n",
    "    print(k)"
   ]
  },
  {
   "cell_type": "code",
   "execution_count": 7,
   "id": "579272ab-b63c-4bf1-a6a0-149a585b5228",
   "metadata": {},
   "outputs": [
    {
     "name": "stdout",
     "output_type": "stream",
     "text": [
      "Parameter containing:\n",
      "tensor([[ 0.0100,  0.0017,  0.0330,  ...,  0.0193, -0.0141, -0.0138],\n",
      "        [ 0.0015, -0.0050, -0.0092,  ...,  0.0155,  0.0109, -0.0073],\n",
      "        [-0.0330,  0.0240,  0.0253,  ...,  0.0403,  0.0176,  0.0177],\n",
      "        ...,\n",
      "        [ 0.0069,  0.0168,  0.0124,  ..., -0.0157, -0.0102, -0.0297],\n",
      "        [ 0.0086,  0.0064,  0.0033,  ..., -0.0142, -0.0206,  0.0009],\n",
      "        [-0.0080, -0.0086, -0.0081,  ...,  0.0055,  0.0059,  0.0220]],\n",
      "       device='cuda:0', dtype=torch.bfloat16, requires_grad=True)\n"
     ]
    }
   ],
   "source": [
    "for k in twinvla.model_l.layers[1].self_attn.v_proj.parameters():\n",
    "    print(k)"
   ]
  },
  {
   "cell_type": "code",
   "execution_count": 8,
   "id": "aff44720-4afd-477c-b31a-501fa1bdf2b9",
   "metadata": {},
   "outputs": [],
   "source": [
    "for d in dataloader:\n",
    "    batch = d\n",
    "    break\n",
    "device_id = 0\n",
    "input_ids=batch['input_ids'].to(device_id)\n",
    "images=batch['pixel_values'].to(device_id)\n",
    "attention_mask=batch['attention_mask'].to(device_id)\n",
    "actions=batch['action'].to(device_id)\n",
    "# hz=batch['hz']\n",
    "use_cache=True\n",
    "# states=batch['proprio'].to(device_id)\n",
    "past_key_values = None\n",
    "# labels = batch['labels'].to(device_id)"
   ]
  },
  {
   "cell_type": "code",
   "execution_count": 9,
   "id": "f1ecac68-2a5a-47c0-b66e-163c2632e53b",
   "metadata": {},
   "outputs": [
    {
     "name": "stdout",
     "output_type": "stream",
     "text": [
      "Current Memory Allocated: 5756.02 MB\n",
      "Reserved Memory: 12008.00 MB\n",
      "Peak Memory Allocated: 11453.45 MB\n"
     ]
    }
   ],
   "source": [
    "import torch\n",
    "if torch.cuda.is_available():\n",
    "    # Get the current GPU memory usage\n",
    "    current_memory = torch.cuda.memory_allocated()  # Memory currently allocated by tensors\n",
    "    reserved_memory = torch.cuda.memory_reserved()  # Total memory reserved by PyTorch\n",
    "    max_memory = torch.cuda.max_memory_allocated()  # Peak memory usage for allocated tensors\n",
    "\n",
    "    # Convert to MB for readability\n",
    "    current_memory_mb = current_memory / (1024 ** 2)\n",
    "    reserved_memory_mb = reserved_memory / (1024 ** 2)\n",
    "    max_memory_mb = max_memory / (1024 ** 2)\n",
    "\n",
    "    print(f\"Current Memory Allocated: {current_memory_mb:.2f} MB\")\n",
    "    print(f\"Reserved Memory: {reserved_memory_mb:.2f} MB\")\n",
    "    print(f\"Peak Memory Allocated: {max_memory_mb:.2f} MB\")"
   ]
  },
  {
   "cell_type": "code",
   "execution_count": 6,
   "id": "e7f1de84-0069-48df-9f51-4e33f84cee7c",
   "metadata": {},
   "outputs": [
    {
     "data": {
      "text/plain": [
       "tensor(0.0291, device='cuda:0', grad_fn=<MseLossBackward0>)"
      ]
     },
     "execution_count": 6,
     "metadata": {},
     "output_type": "execute_result"
    }
   ],
   "source": [
    "for d in dataloader:\n",
    "    batch = d\n",
    "    break\n",
    "device_id = 0\n",
    "input_ids=batch['input_ids'].to(device_id)\n",
    "images=batch['pixel_values'].to(device_id)\n",
    "attention_mask=batch['attention_mask'].to(device_id)\n",
    "actions=batch['action'].to(device_id)\n",
    "# hz=batch['hz']\n",
    "use_cache=True\n",
    "# states=batch['proprio'].to(device_id)\n",
    "past_key_values = None\n",
    "# labels = batch['labels'].to(device_id)\n",
    "with torch.autocast('cuda', dtype=torch.bfloat16):\n",
    "    action, attn  = twinvla.predict_action(\n",
    "        input_ids=input_ids,\n",
    "        attention_mask=attention_mask,\n",
    "        images=images,\n",
    "        output_attn=True\n",
    "        # actions=actions\n",
    "    )\n",
    "torch.nn.functional.mse_loss(action, actions)"
   ]
  },
  {
   "cell_type": "code",
   "execution_count": 7,
   "id": "b27977dc-23ac-41d2-ab8e-7cd90960f888",
   "metadata": {},
   "outputs": [
    {
     "data": {
      "text/plain": [
       "tensor([ 0.1594,  0.0911, -0.1592,  0.2268, -0.1974,  0.2310, -0.0190,  1.3478,\n",
       "         0.0187, -0.2648,  0.5390,  0.4600,  0.5329, -0.1221], device='cuda:0',\n",
       "       grad_fn=<SelectBackward0>)"
      ]
     },
     "execution_count": 7,
     "metadata": {},
     "output_type": "execute_result"
    }
   ],
   "source": [
    "action[0][0]"
   ]
  },
  {
   "cell_type": "code",
   "execution_count": 8,
   "id": "6e09c44c-0bf0-4067-813f-c0bbb93de158",
   "metadata": {},
   "outputs": [
    {
     "data": {
      "text/plain": [
       "tensor([ 0.2231,  0.0717, -0.2122,  0.1605, -0.1064,  0.1255,  0.0000,  0.7861,\n",
       "        -0.0563, -0.1482,  0.3711,  0.4583,  0.2388,  0.0000], device='cuda:0',\n",
       "       dtype=torch.float16)"
      ]
     },
     "execution_count": 8,
     "metadata": {},
     "output_type": "execute_result"
    }
   ],
   "source": [
    "actions[0][0]"
   ]
  },
  {
   "cell_type": "code",
   "execution_count": 22,
   "id": "f76d3087-ebaa-4c0d-b04e-ea849ae8e612",
   "metadata": {},
   "outputs": [
    {
     "data": {
      "text/plain": [
       "tensor(0.0059, device='cuda:0', grad_fn=<DivBackward0>)"
      ]
     },
     "execution_count": 22,
     "metadata": {},
     "output_type": "execute_result"
    }
   ],
   "source": [
    "((action - actions) ** 2).sum().sum().sum()/(14 * 8 * 8)"
   ]
  },
  {
   "cell_type": "code",
   "execution_count": 23,
   "id": "620c37b7-2416-4a98-88a0-06d3b9db9fca",
   "metadata": {},
   "outputs": [],
   "source": [
    "def attn_viz_array(attn_mat, width, head=0):\n",
    "    seq_len = attn[0].shape[-1]\n",
    "    half_len = seq_len // 2\n",
    "    matrix_list = torch.zeros((16 , 24, half_len))\n",
    "    for i in range(24):\n",
    "        for h in range(16):\n",
    "            matrix_list[h, i] = attn_mat[i][0, h][half_len-1, half_len:]\n",
    "    matrix_list = matrix_list.detach().cpu().numpy()\n",
    "    seq_len = matrix_list.shape[-1]\n",
    "    layers = 24\n",
    "    dpi = 100\n",
    "    figsize = (width / dpi, width / seq_len * layers / dpi)\n",
    "    fig, ax = plt.subplots(figsize=figsize, dpi=dpi)\n",
    "    ax.imshow(matrix_list[head], vmin=0.0, vmax=0.01, interpolation='nearest')\n",
    "    ax.axis('off')\n",
    "    fig.tight_layout(pad=0)  # Remove padding between the figure and the edges\n",
    "    fig.canvas.draw()\n",
    "    image_array = np.frombuffer(fig.canvas.tostring_rgb(), dtype=np.uint8)\n",
    "    image_array = image_array.reshape(fig.canvas.get_width_height()[::-1] + (3,))\n",
    "    plt.close(fig)\n",
    "    return image_array"
   ]
  },
  {
   "cell_type": "code",
   "execution_count": 27,
   "id": "abfb701a-6fa6-4eb6-b579-c988319b29b3",
   "metadata": {},
   "outputs": [],
   "source": [
    "def visualize_attention(attn_mat):\n",
    "    seq_len = attn[0].shape[-1]\n",
    "    half_len = seq_len // 2\n",
    "    matrix_list = torch.zeros((16 , 24, half_len))\n",
    "    for i in range(24):\n",
    "        for h in range(16):\n",
    "            # attn_mat = attn[i][0, j]\n",
    "            matrix_list[h, i] = attn_mat[i][0, h][half_len-1, half_len:]\n",
    "    return matrix_list"
   ]
  },
  {
   "cell_type": "code",
   "execution_count": 33,
   "id": "bd5bf318-1e53-4526-a614-4f5dde2ec7e8",
   "metadata": {},
   "outputs": [
    {
     "name": "stderr",
     "output_type": "stream",
     "text": [
      "/tmp/ipykernel_2933641/277743311.py:18: MatplotlibDeprecationWarning: The tostring_rgb function was deprecated in Matplotlib 3.8 and will be removed in 3.10. Use buffer_rgba instead.\n",
      "  image_array = np.frombuffer(fig.canvas.tostring_rgb(), dtype=np.uint8)\n"
     ]
    }
   ],
   "source": [
    "attn_mat = attn_viz_array(attn, 800)"
   ]
  },
  {
   "cell_type": "code",
   "execution_count": 34,
   "id": "7f8ee8a7-a54f-4af6-b24a-0f31ea3f3530",
   "metadata": {},
   "outputs": [
    {
     "data": {
      "text/html": [
       "<table class=\"show_images\" style=\"border-spacing:0px;\"><tr><td style=\"padding:1px;\"><img width=\"800\" height=\"90\" style=\"image-rendering:auto; object-fit:cover;\" src=\"data:image/png;base64,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\"/></td></tr></table>"
      ],
      "text/plain": [
       "<IPython.core.display.HTML object>"
      ]
     },
     "metadata": {},
     "output_type": "display_data"
    }
   ],
   "source": [
    "import mediapy\n",
    "mediapy.show_image(attn_mat)"
   ]
  },
  {
   "cell_type": "code",
   "execution_count": 30,
   "id": "6181c18f-d417-4b8a-90ee-7b29ee71e528",
   "metadata": {},
   "outputs": [
    {
     "data": {
      "text/plain": [
       "(45, 400, 3)"
      ]
     },
     "execution_count": 30,
     "metadata": {},
     "output_type": "execute_result"
    }
   ],
   "source": [
    "attn_mat.shape"
   ]
  },
  {
   "cell_type": "code",
   "execution_count": 31,
   "id": "d418fa5e-421a-43d8-a72c-1e935dc29fdb",
   "metadata": {},
   "outputs": [],
   "source": [
    "import matplotlib.pyplot as plt\n",
    "\n",
    "# plt.imshow(attn_mat[0]//"
   ]
  },
  {
   "cell_type": "code",
   "execution_count": 32,
   "id": "2d32614e-048a-43f0-ac9b-90da2ee08952",
   "metadata": {},
   "outputs": [
    {
     "data": {
      "image/png": "[encoded data removed]",
      "text/plain": [
       "<Figure size 1000x1000 with 1 Axes>"
      ]
     },
     "metadata": {},
     "output_type": "display_data"
    }
   ],
   "source": [
    "plt.figure(figsize=(10, 10))  # Set figure size (width, height in inches)\n",
    "plt.imshow(attn[-1][0][0][0:100].detach().cpu().float().numpy(), interpolation='nearest')\n",
    "plt.axis('off')  # Turn off axis\n",
    "plt.show()"
   ]
  },
  {
   "cell_type": "code",
   "execution_count": null,
   "id": "016a8431-f0be-4fc5-8ee4-b0dcad3985a1",
   "metadata": {},
   "outputs": [],
   "source": []
  }
 ],
 "metadata": {
  "kernelspec": {
   "display_name": "Python 3 (ipykernel)",
   "language": "python",
   "name": "python3"
  },
  "language_info": {
   "codemirror_mode": {
    "name": "ipython",
    "version": 3
   },
   "file_extension": ".py",
   "mimetype": "text/x-python",
   "name": "python",
   "nbconvert_exporter": "python",
   "pygments_lexer": "ipython3",
   "version": "3.10.15"
  }
 },
 "nbformat": 4,
 "nbformat_minor": 5
}
