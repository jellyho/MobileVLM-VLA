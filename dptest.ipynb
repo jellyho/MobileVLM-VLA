{
 "cells": [
  {
   "cell_type": "code",
   "execution_count": 1,
   "id": "c269b647-8bca-44c9-9fae-c4b28d39bab7",
   "metadata": {},
   "outputs": [
    {
     "name": "stdout",
     "output_type": "stream",
     "text": [
      "Number of GPUs available: 1\n",
      "GPU 0: NVIDIA L40S\n",
      "Using device: cuda:0\n"
     ]
    }
   ],
   "source": [
    "import os\n",
    "\n",
    "# Restrict PyTorch to only see GPU 0\n",
    "os.environ[\"CUDA_VISIBLE_DEVICES\"] = \"0\"\n",
    "import torch\n",
    "\n",
    "if torch.cuda.is_available():\n",
    "    print(f\"Number of GPUs available: {torch.cuda.device_count()}\")\n",
    "    for i in range(torch.cuda.device_count()):\n",
    "        print(f\"GPU {i}: {torch.cuda.get_device_name(i)}\")\n",
    "else:\n",
    "    print(\"CUDA is not available, using CPU.\")\n",
    "device = torch.device(\"cuda:0\" if torch.cuda.is_available() else \"cpu\")\n",
    "print(f\"Using device: {device}\")"
   ]
  },
  {
   "cell_type": "code",
   "execution_count": 62,
   "id": "27630f5e-d14c-4ebd-bd35-7040a5c0d3b0",
   "metadata": {},
   "outputs": [],
   "source": [
    "from spatialvla.mobilevlm.model.diffusion_heads import DiffusionPolicyHead\n",
    "import torch\n",
    "import torch.optim as optim\n",
    "from tqdm import tqdm\n",
    "DiffusionHead = {\n",
    "    'head_type': 'DiffusionPolicy',\n",
    "    'hidden_projection': 'pass',\n",
    "    'use_map' : True,\n",
    "    'max_action': 5.0,\n",
    "    'loss_type': 'mse',\n",
    "    'time_dim':  32,\n",
    "    'num_blocks': 3,\n",
    "    'dropout_rate': 0.0,\n",
    "    'hidden_dim': 256,\n",
    "    'use_layer_norm':True,\n",
    "    'diffusion_steps': 20,\n",
    "    'n_diffusion_samples': 1,\n",
    "}"
   ]
  },
  {
   "cell_type": "code",
   "execution_count": 63,
   "id": "b0a0695e-943e-4c05-b035-464586729e63",
   "metadata": {},
   "outputs": [],
   "source": [
    "model = DiffusionPolicyHead(action_len=8, head_args=DiffusionHead).cuda()"
   ]
  },
  {
   "cell_type": "code",
   "execution_count": 64,
   "id": "69529744-b359-4789-ba5b-99e69b8f08db",
   "metadata": {},
   "outputs": [
    {
     "data": {
      "text/plain": [
       "torch.Size([1, 8, 7])"
      ]
     },
     "execution_count": 64,
     "metadata": {},
     "output_type": "execute_result"
    }
   ],
   "source": [
    "import numpy as np\n",
    "x = np.linspace(0, 6.28, 7)\n",
    "y = np.sin(x)\n",
    "y = torch.Tensor(y).unsqueeze(0).unsqueeze(0).expand(1, 8, 7).cuda()\n",
    "y.shape"
   ]
  },
  {
   "cell_type": "code",
   "execution_count": 65,
   "id": "b43695a6-9b5c-45ae-ae02-670af823c8b4",
   "metadata": {},
   "outputs": [],
   "source": [
    "epochs = 1000\n",
    "learning_rate = 1e-4\n",
    "batch_size = 16\n",
    "# Optimizer\n",
    "optimizer = optim.AdamW(model.parameters(), lr=learning_rate)"
   ]
  },
  {
   "cell_type": "code",
   "execution_count": 66,
   "id": "82ff3bb1-e569-415a-aa1d-dc0b785aaaef",
   "metadata": {},
   "outputs": [
    {
     "name": "stderr",
     "output_type": "stream",
     "text": [
      "100%|█████████████████████████████████████████████████████████████████████████████████████████████████████████████████████████████████████████████████████████████████| 1000/1000 [00:43<00:00, 22.97it/s]\n"
     ]
    }
   ],
   "source": [
    "model.train()\n",
    "# Training loop\n",
    "for epoch in tqdm(range(epochs)):\n",
    "    model.train()     \n",
    "    optimizer.zero_grad()\n",
    "    with torch.autocast(device_type='cuda', dtype=torch.bfloat16):\n",
    "        labels_encoded = torch.zeros(16, 1, 2048).cuda()\n",
    "        loss = model.loss(labels_encoded, y.expand(batch_size, -1, -1))\n",
    "    loss.backward()\n",
    "    torch.nn.utils.clip_grad_norm_(model.parameters(), max_norm=1.0)\n",
    "    optimizer.step()"
   ]
  },
  {
   "cell_type": "code",
   "execution_count": 67,
   "id": "101f8a69-5c50-4804-9a19-0c20d4b876d3",
   "metadata": {},
   "outputs": [
    {
     "data": {
      "text/plain": [
       "0.013198195025324821"
      ]
     },
     "execution_count": 67,
     "metadata": {},
     "output_type": "execute_result"
    }
   ],
   "source": [
    "loss.item()"
   ]
  },
  {
   "cell_type": "code",
   "execution_count": 68,
   "id": "48bc2fdc-33bf-40da-90b1-87f42931488b",
   "metadata": {},
   "outputs": [],
   "source": [
    "p, h = model.predict_action(torch.zeros(1, 1, 2048).cuda(), 20, return_history=True)"
   ]
  },
  {
   "cell_type": "code",
   "execution_count": 69,
   "id": "38c7627a-2ef1-42a2-9859-f52de47a226f",
   "metadata": {},
   "outputs": [
    {
     "data": {
      "text/plain": [
       "torch.Size([1, 8, 7])"
      ]
     },
     "execution_count": 69,
     "metadata": {},
     "output_type": "execute_result"
    }
   ],
   "source": [
    "h[0].shape"
   ]
  },
  {
   "cell_type": "code",
   "execution_count": 70,
   "id": "2aa7589a-333e-4734-aaec-73466f99c067",
   "metadata": {},
   "outputs": [],
   "source": [
    "import matplotlib.pyplot as plt\n",
    "import numpy as np\n",
    "from PIL import Image\n",
    "\n",
    "# Assuming `h` is a list of tensors\n",
    "frames = []\n",
    "\n",
    "# Loop through each element in `h` to create and save each frame\n",
    "for h_elem in h:\n",
    "    # Plot the data\n",
    "    fig, ax = plt.subplots()\n",
    "    ax.plot(range(7), h_elem[0, 0].detach().cpu().numpy())\n",
    "\n",
    "    # Save the plot as an image in memory\n",
    "    fig.canvas.draw()\n",
    "    image = np.array(fig.canvas.renderer.buffer_rgba())\n",
    "    frames.append(Image.fromarray(image))\n",
    "\n",
    "    # Close the figure to avoid display overlap and memory issues\n",
    "    plt.close(fig)\n",
    "\n",
    "# Save frames as an animated GIF\n",
    "frames[0].save(\"animation.gif\", save_all=True, append_images=frames[1:], loop=0, duration=200)\n"
   ]
  },
  {
   "cell_type": "code",
   "execution_count": 79,
   "id": "6a97d5fc-5382-4acb-a5d4-754b51df0db1",
   "metadata": {},
   "outputs": [
    {
     "data": {
      "text/plain": [
       "[<matplotlib.lines.Line2D at 0x149a4c64ada0>]"
      ]
     },
     "execution_count": 79,
     "metadata": {},
     "output_type": "execute_result"
    },
    {
     "data": {
      "image/png": "[encoded data removed]",
      "text/plain": [
       "<Figure size 640x480 with 1 Axes>"
      ]
     },
     "metadata": {},
     "output_type": "display_data"
    }
   ],
   "source": [
    "plt.plot(list(range(7)), h[-1][0, 3].detach().cpu().numpy())"
   ]
  },
  {
   "cell_type": "code",
   "execution_count": null,
   "id": "89076ebb-80aa-4ee7-b123-fd71d249ff33",
   "metadata": {},
   "outputs": [],
   "source": []
  }
 ],
 "metadata": {
  "kernelspec": {
   "display_name": "Python 3 (ipykernel)",
   "language": "python",
   "name": "python3"
  },
  "language_info": {
   "codemirror_mode": {
    "name": "ipython",
    "version": 3
   },
   "file_extension": ".py",
   "mimetype": "text/x-python",
   "name": "python",
   "nbconvert_exporter": "python",
   "pygments_lexer": "ipython3",
   "version": "3.10.15"
  }
 },
 "nbformat": 4,
 "nbformat_minor": 5
}
