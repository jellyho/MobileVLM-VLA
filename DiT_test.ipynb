{
 "cells": [
  {
   "cell_type": "code",
   "execution_count": 1,
   "id": "3c5756ef-5a7d-42fe-9cc1-7ef57af40e43",
   "metadata": {},
   "outputs": [
    {
     "name": "stdout",
     "output_type": "stream",
     "text": [
      "Number of GPUs available: 1\n",
      "GPU 0: NVIDIA L40S\n",
      "Using device: cuda:0\n"
     ]
    }
   ],
   "source": [
    "import os\n",
    "\n",
    "# Restrict PyTorch to only see GPU 0\n",
    "os.environ[\"CUDA_VISIBLE_DEVICES\"] = \"6\"\n",
    "import torch\n",
    "\n",
    "if torch.cuda.is_available():\n",
    "    print(f\"Number of GPUs available: {torch.cuda.device_count()}\")\n",
    "    for i in range(torch.cuda.device_count()):\n",
    "        print(f\"GPU {i}: {torch.cuda.get_device_name(i)}\")\n",
    "else:\n",
    "    print(\"CUDA is not available, using CPU.\")\n",
    "device = torch.device(\"cuda:0\" if torch.cuda.is_available() else \"cpu\")\n",
    "print(f\"Using device: {device}\")"
   ]
  },
  {
   "cell_type": "code",
   "execution_count": 2,
   "id": "ca031cb6-7b2e-445c-a4ea-933d43947123",
   "metadata": {},
   "outputs": [
    {
     "name": "stderr",
     "output_type": "stream",
     "text": [
      "2024-11-29 23:08:52.096213: I tensorflow/core/util/port.cc:113] oneDNN custom operations are on. You may see slightly different numerical results due to floating-point round-off errors from different computation orders. To turn them off, set the environment variable `TF_ENABLE_ONEDNN_OPTS=0`.\n",
      "2024-11-29 23:08:52.127152: E external/local_xla/xla/stream_executor/cuda/cuda_dnn.cc:9261] Unable to register cuDNN factory: Attempting to register factory for plugin cuDNN when one has already been registered\n",
      "2024-11-29 23:08:52.127202: E external/local_xla/xla/stream_executor/cuda/cuda_fft.cc:607] Unable to register cuFFT factory: Attempting to register factory for plugin cuFFT when one has already been registered\n",
      "2024-11-29 23:08:52.128243: E external/local_xla/xla/stream_executor/cuda/cuda_blas.cc:1515] Unable to register cuBLAS factory: Attempting to register factory for plugin cuBLAS when one has already been registered\n",
      "2024-11-29 23:08:52.134136: I tensorflow/core/platform/cpu_feature_guard.cc:182] This TensorFlow binary is optimized to use available CPU instructions in performance-critical operations.\n",
      "To enable the following instructions: AVX2 AVX512F AVX512_VNNI AVX512_BF16 FMA, in other operations, rebuild TensorFlow with the appropriate compiler flags.\n",
      "2024-11-29 23:08:52.785636: W tensorflow/compiler/tf2tensorrt/utils/py_utils.cc:38] TF-TRT Warning: Could not find TensorRT\n"
     ]
    },
    {
     "name": "stdout",
     "output_type": "stream",
     "text": [
      "[2024-11-29 23:08:54,596] [INFO] [real_accelerator.py:110:get_accelerator] Setting ds_accelerator to cuda (auto detect)\n"
     ]
    }
   ],
   "source": [
    "import tqdm\n",
    "import tensorflow as tf\n",
    "import torch\n",
    "import wandb\n",
    "import os\n",
    "import copy\n",
    "import json\n",
    "import logging\n",
    "import pathlib\n",
    "from tqdm import tqdm\n",
    "import transformers\n",
    "from transformers import get_linear_schedule_with_warmup, get_cosine_schedule_with_warmup, get_scheduler\n",
    "from transformers.trainer import ALL_LAYERNORM_LAYERS, get_parameter_names\n",
    "from PIL import Image\n",
    "from accelerate import PartialState\n",
    "from dataclasses import dataclass, asdict\n",
    "from typing import Dict, Optional, Sequence, List\n",
    "from torch.nn import MSELoss, L1Loss, SmoothL1Loss\n",
    "from torch.optim import AdamW\n",
    "from torch.utils.data import DataLoader\n",
    "from torch.cuda.amp import autocast\n",
    "\n",
    "from spatialvla.datasets import RLDSDataset, RLDSBatchTransform\n",
    "from spatialvla.datasets.rlds.utils.data_utils import save_dataset_statistics\n",
    "from spatialvla.datasets.rlds.utils.data_utils import PaddedCollatorForActionPrediction\n",
    "\n",
    "from spatialvla.mobilevlm.model.mobilevlm import load_pretrained_vlm_for_vla\n",
    "from spatialvla.mobilevlm.train.train import find_all_linear_names, get_peft_state_maybe_zero_3, get_peft_state_non_lora_maybe_zero_3, find_all_names_from_module\n",
    "\n",
    "from scripts.spatialvla_config import ModelArguments, TrainingArguments, HEAD_ARGS"
   ]
  },
  {
   "cell_type": "code",
   "execution_count": 3,
   "id": "472a03c6-cf96-4a3a-9485-6638cff8471b",
   "metadata": {},
   "outputs": [],
   "source": [
    "model_args = ModelArguments()\n",
    "model_args.action_head = 'DiT'\n",
    "model_args.head_args = HEAD_ARGS['DiT']\n",
    "training_args = TrainingArguments()\n",
    "dtype = torch.bfloat16\n",
    "device_id = 0"
   ]
  },
  {
   "cell_type": "code",
   "execution_count": 4,
   "id": "8fa55c97-d0b1-47c4-82bc-f447047e5290",
   "metadata": {},
   "outputs": [
    {
     "name": "stdout",
     "output_type": "stream",
     "text": [
      "Loading with torch.bfloat16\n"
     ]
    },
    {
     "name": "stderr",
     "output_type": "stream",
     "text": [
      "/home/jellyho/miniconda3/envs/mobilevlm/lib/python3.10/site-packages/huggingface_hub/file_download.py:1142: FutureWarning: `resume_download` is deprecated and will be removed in version 1.0.0. Downloads always resume when possible. If you want to force a new download, use `force_download=True`.\n",
      "  warnings.warn(\n",
      "You are using a model of type mobilevlm to instantiate a model of type spatialvla. This is not supported for all configurations of models and can yield errors.\n",
      "Some weights of SpatialVLAForCausalLM were not initialized from the model checkpoint at remyxai/SpaceLLaVA-lite and are newly initialized: ['action_head.time_net.out_net.2.weight', 'action_head.eps_net.adaLN_modulation.1.bias', 'action_head.action_proj.2.bias', 'action_head.action_proj.0.weight', 'action_head.eps_net.linear.weight', 'action_head.eps_net.adaLN_modulation.1.weight', 'action_head.time_net.out_net.0.weight', 'action_head.action_proj.0.bias', 'action_head.timestep_pos', 'action_head.noise_pos', 'action_head.time_net.w', 'action_head.eps_net.linear.bias', 'action_head.action_proj.2.weight', 'action_head.time_net.out_net.0.bias', 'action_head.time_net.out_net.2.bias']\n",
      "You should probably TRAIN this model on a down-stream task to be able to use it for predictions and inference.\n",
      "You are resizing the embedding layer without providing a `pad_to_multiple_of` parameter. This means that the new embedding dimension will be 32000. This might induce some performance reduction as *Tensor Cores* will not be available. For more details about this, or help on choosing the correct value for resizing, refer to this guide: https://docs.nvidia.com/deeplearning/performance/dl-performance-matrix-multiplication/index.html#requirements-tc\n"
     ]
    }
   ],
   "source": [
    "tokenizer, model, image_processor, _ = load_pretrained_vlm_for_vla(\n",
    "    model_args, \n",
    "    load_8bit=False, \n",
    "    load_4bit=False,\n",
    "    device=device_id,\n",
    "    dtype=dtype\n",
    ")"
   ]
  },
  {
   "cell_type": "code",
   "execution_count": 5,
   "id": "2aff9f47-30f6-429c-b1d9-ddefbd813c89",
   "metadata": {},
   "outputs": [],
   "source": [
    "model = model.to(device_id)"
   ]
  },
  {
   "cell_type": "code",
   "execution_count": 6,
   "id": "c4fd9ff5-1e51-46b9-b1c1-cf506f7f1014",
   "metadata": {},
   "outputs": [],
   "source": [
    "for param in model.parameters():\n",
    "    param.requires_grad = False"
   ]
  },
  {
   "cell_type": "code",
   "execution_count": 11,
   "id": "0b333824-6205-40f6-964e-c3551e0d4b94",
   "metadata": {},
   "outputs": [
    {
     "name": "stderr",
     "output_type": "stream",
     "text": [
      "2024-11-29 23:09:38.366583: I tensorflow/core/grappler/optimizers/data/replicate_on_split.cc:32] Running replicate on split optimization\n",
      "2024-11-29 23:09:38.482605: I tensorflow/core/grappler/optimizers/data/replicate_on_split.cc:32] Running replicate on split optimization\n"
     ]
    },
    {
     "name": "stdout",
     "output_type": "stream",
     "text": [
      "\n",
      "######################################################################################\n",
      "# Loading the following 1 datasets (incl. sampling weight):                         #\n",
      "# libero_object_no_noops: ==================================================1.000000 #\n",
      "######################################################################################\n",
      "\n",
      "Threads per Dataset: %s [1]\n",
      "Reads per Dataset: %s [1]\n",
      "Constructing datasets...\n"
     ]
    },
    {
     "name": "stderr",
     "output_type": "stream",
     "text": [
      "2024-11-29 23:09:38.618366: I tensorflow/core/grappler/optimizers/data/replicate_on_split.cc:32] Running replicate on split optimization\n"
     ]
    },
    {
     "name": "stdout",
     "output_type": "stream",
     "text": [
      "Applying frame transforms on dataset...\n"
     ]
    }
   ],
   "source": [
    "batch_transform = RLDSBatchTransform(\n",
    "    tokenizer,\n",
    "    image_processor,\n",
    ")\n",
    "\n",
    "dataset = RLDSDataset(\n",
    "    data_root_dir=training_args.data_root_dir,\n",
    "    data_mix=training_args.data_mix,\n",
    "    batch_transform=batch_transform,\n",
    "    shuffle_buffer_size=training_args.shuffle_buffer_size,\n",
    "    train=True,\n",
    "    window_size=1,\n",
    "    future_action_window_size=model_args.action_len - 1\n",
    ")\n",
    "collator = PaddedCollatorForActionPrediction(tokenizer.model_max_length, tokenizer.pad_token_id, padding_side='right')\n",
    "\n",
    "dataloader = DataLoader(\n",
    "    dataset,\n",
    "    batch_size=1,\n",
    "    sampler=None,\n",
    "    collate_fn=collator,\n",
    "    num_workers=0,  # Important =>> Set to 0 if using RLDS; TFDS rolls its own parallelism!\n",
    ")"
   ]
  },
  {
   "cell_type": "code",
   "execution_count": 21,
   "id": "d5276f31-55bc-490a-8d25-29c4035d283a",
   "metadata": {},
   "outputs": [],
   "source": [
    "batch_idx, batch = next(enumerate(dataloader))\n",
    "model = model.eval()"
   ]
  },
  {
   "cell_type": "code",
   "execution_count": 75,
   "id": "455e87b0-f283-436e-9ccc-787f0025bbfb",
   "metadata": {},
   "outputs": [
    {
     "name": "stdout",
     "output_type": "stream",
     "text": [
      "0.16927671432495117\n"
     ]
    }
   ],
   "source": [
    "input_ids=batch['input_ids'].to(device_id)\n",
    "images=batch['pixel_values'].to(device_id)\n",
    "attention_mask=batch['attention_mask'].to(device_id)\n",
    "actions=batch['action'].to(device_id)\n",
    "past_key_values = None\n",
    "labels = None\n",
    "\n",
    "import time\n",
    "with torch.autocast('cuda', dtype=dtype):\n",
    "    torch.cuda.synchronize()\n",
    "    start = time.time()\n",
    "    # input_ids, attention_mask, past_key_values, inputs_embeds, labels = model.prepare_inputs_labels_for_multimodal(input_ids, attention_mask, past_key_values, labels, images)\n",
    "    # input_ids, attention_mask, past_key_values, inputs_embeds, labels, time_enc, noise =  model.action_head.prepare_inputs_for_DiT_training(actions, input_ids, attention_mask, past_key_values, inputs_embeds, labels)\n",
    "    outputs = model.predict_action(\n",
    "            input_ids=batch['input_ids'].to(device_id),\n",
    "            images=batch['pixel_values'].to(device_id),\n",
    "            attention_mask=batch['attention_mask'].to(device_id),\n",
    "            use_cache=True\n",
    "        )\n",
    "    torch.cuda.synchronize()\n",
    "    end = time.time()\n",
    "print(end - start)"
   ]
  },
  {
   "cell_type": "code",
   "execution_count": 10,
   "id": "7b2f6f22-e13d-497f-a385-ccd295f40d54",
   "metadata": {},
   "outputs": [
    {
     "data": {
      "text/plain": [
       "ModelArguments(model_path='remyxai/SpaceLLaVA-lite', action_head='DiT', head_args={'head_type': 'DiT', 'hidden_projection': 'pass', 'use_map': False, 'max_action': 5.0, 'time_dim': 256, 'hidden_dim': 256, 'diffusion_steps': 100, 'sched': 'DDIM'}, action_dim=7, action_len=1)"
      ]
     },
     "execution_count": 10,
     "metadata": {},
     "output_type": "execute_result"
    }
   ],
   "source": [
    "model_args"
   ]
  }
 ],
 "metadata": {
  "kernelspec": {
   "display_name": "Python 3 (ipykernel)",
   "language": "python",
   "name": "python3"
  },
  "language_info": {
   "codemirror_mode": {
    "name": "ipython",
    "version": 3
   },
   "file_extension": ".py",
   "mimetype": "text/x-python",
   "name": "python",
   "nbconvert_exporter": "python",
   "pygments_lexer": "ipython3",
   "version": "3.10.15"
  }
 },
 "nbformat": 4,
 "nbformat_minor": 5
}
