{
 "cells": [
  {
   "cell_type": "code",
   "execution_count": 1,
   "id": "59dd4352-4fc4-4809-b9be-893e5a878611",
   "metadata": {},
   "outputs": [
    {
     "name": "stdout",
     "output_type": "stream",
     "text": [
      "Number of GPUs available: 1\n",
      "GPU 0: NVIDIA L40S\n",
      "Using device: cuda:0\n"
     ]
    }
   ],
   "source": [
    "import os\n",
    "\n",
    "# Restrict PyTorch to only see GPU 0\n",
    "os.environ[\"CUDA_VISIBLE_DEVICES\"] = \"0\"\n",
    "import torch\n",
    "\n",
    "if torch.cuda.is_available():\n",
    "    print(f\"Number of GPUs available: {torch.cuda.device_count()}\")\n",
    "    for i in range(torch.cuda.device_count()):\n",
    "        print(f\"GPU {i}: {torch.cuda.get_device_name(i)}\")\n",
    "else:\n",
    "    print(\"CUDA is not available, using CPU.\")\n",
    "device = torch.device(\"cuda:0\" if torch.cuda.is_available() else \"cpu\")\n",
    "print(f\"Using device: {device}\")"
   ]
  },
  {
   "cell_type": "code",
   "execution_count": 2,
   "id": "1fdfb60b-b79e-4e9e-99a6-92f9a542bdcf",
   "metadata": {},
   "outputs": [
    {
     "name": "stderr",
     "output_type": "stream",
     "text": [
      "2024-12-27 15:17:38.313626: I tensorflow/core/util/port.cc:113] oneDNN custom operations are on. You may see slightly different numerical results due to floating-point round-off errors from different computation orders. To turn them off, set the environment variable `TF_ENABLE_ONEDNN_OPTS=0`.\n",
      "2024-12-27 15:17:38.343710: E external/local_xla/xla/stream_executor/cuda/cuda_dnn.cc:9261] Unable to register cuDNN factory: Attempting to register factory for plugin cuDNN when one has already been registered\n",
      "2024-12-27 15:17:38.343754: E external/local_xla/xla/stream_executor/cuda/cuda_fft.cc:607] Unable to register cuFFT factory: Attempting to register factory for plugin cuFFT when one has already been registered\n",
      "2024-12-27 15:17:38.344487: E external/local_xla/xla/stream_executor/cuda/cuda_blas.cc:1515] Unable to register cuBLAS factory: Attempting to register factory for plugin cuBLAS when one has already been registered\n",
      "2024-12-27 15:17:38.349933: I tensorflow/core/platform/cpu_feature_guard.cc:182] This TensorFlow binary is optimized to use available CPU instructions in performance-critical operations.\n",
      "To enable the following instructions: AVX2 AVX512F AVX512_VNNI AVX512_BF16 FMA, in other operations, rebuild TensorFlow with the appropriate compiler flags.\n",
      "2024-12-27 15:17:39.051621: W tensorflow/compiler/tf2tensorrt/utils/py_utils.cc:38] TF-TRT Warning: Could not find TensorRT\n"
     ]
    },
    {
     "name": "stdout",
     "output_type": "stream",
     "text": [
      "[2024-12-27 15:17:45,881] [INFO] [real_accelerator.py:110:get_accelerator] Setting ds_accelerator to cuda (auto detect)\n"
     ]
    }
   ],
   "source": [
    "from spatialvla.datasets import RLDSBatchTransform, RLDSDataset\n",
    "from spatialvla.mobilevlm.model.mobilevlm import load_pretrained_vlm_for_vla, load_vla\n",
    "from scripts.spatialvla_config import ModelArguments, TrainingArguments\n",
    "import transformers\n",
    "from spatialvla.datasets.rlds.utils.data_utils import PaddedCollatorForActionPrediction\n",
    "from torch.utils.data import DataLoader\n",
    "from spatialvla.mobilevlm.action_tokenizer import ActionTokenizer"
   ]
  },
  {
   "cell_type": "code",
   "execution_count": 4,
   "id": "24c3bb21-d6fa-4142-add7-412018d13a8c",
   "metadata": {},
   "outputs": [
    {
     "name": "stderr",
     "output_type": "stream",
     "text": [
      "/home/jellyho/miniconda3/envs/mobilevlm/lib/python3.10/site-packages/huggingface_hub/file_download.py:1142: FutureWarning: `resume_download` is deprecated and will be removed in version 1.0.0. Downloads always resume when possible. If you want to force a new download, use `force_download=True`.\n",
      "  warnings.warn(\n"
     ]
    },
    {
     "name": "stdout",
     "output_type": "stream",
     "text": [
      "number of parameters: 3.688986e+07\n",
      "number of parameters: 3.688986e+07\n",
      "number of parameters: 3.688986e+07\n"
     ]
    },
    {
     "name": "stderr",
     "output_type": "stream",
     "text": [
      "You are resizing the embedding layer without providing a `pad_to_multiple_of` parameter. This means that the new embedding dimension will be 32000. This might induce some performance reduction as *Tensor Cores* will not be available. For more details about this, or help on choosing the correct value for resizing, refer to this guide: https://docs.nvidia.com/deeplearning/performance/dl-performance-matrix-multiplication/index.html#requirements-tc\n"
     ]
    },
    {
     "name": "stdout",
     "output_type": "stream",
     "text": [
      "{'name': 'libero_object_no_noops', 'data_dir': '/home/shared/rlds_datasets', 'image_obs_keys': {'primary': 'image'}, 'absolute_action_mask': [False, False, False, False, False, False, True], 'action_normalization_mask': [True, True, True, True, True, True, False], 'action_proprio_normalization_type': <NormalizationType.NORMAL: 'normal'>, 'language_key': 'language_instruction', 'standardize_fn': <function libero_dataset_transform at 0x14e996c37370>}\n"
     ]
    },
    {
     "name": "stderr",
     "output_type": "stream",
     "text": [
      "2024-12-27 15:19:03.477792: I tensorflow/core/grappler/optimizers/data/replicate_on_split.cc:32] Running replicate on split optimization\n",
      "2024-12-27 15:19:03.905995: I tensorflow/core/grappler/optimizers/data/replicate_on_split.cc:32] Running replicate on split optimization\n"
     ]
    },
    {
     "name": "stdout",
     "output_type": "stream",
     "text": [
      "\n",
      "######################################################################################\n",
      "# Loading the following 1 datasets (incl. sampling weight):                         #\n",
      "# libero_object_no_noops: ==================================================1.000000 #\n",
      "######################################################################################\n",
      "\n",
      "Threads per Dataset:  [1]\n",
      "Reads per Dataset:  [1]\n",
      "Constructing datasets...\n"
     ]
    },
    {
     "name": "stderr",
     "output_type": "stream",
     "text": [
      "2024-12-27 15:19:04.314250: I tensorflow/core/grappler/optimizers/data/replicate_on_split.cc:32] Running replicate on split optimization\n"
     ]
    },
    {
     "name": "stdout",
     "output_type": "stream",
     "text": [
      "Applying frame transforms on dataset...\n"
     ]
    }
   ],
   "source": [
    "# model_args = ModelArguments()\n",
    "# model_args.use_state_input = True\n",
    "\n",
    "tokenizer, model, image_processor, _ = load_vla(\n",
    "    'checkpoints/libero_object_br_v8',\n",
    "    load_8bit=False, \n",
    "    load_4bit=False,\n",
    "    device='cuda',\n",
    ")\n",
    "\n",
    "# tokenizer, model, image_processor, _ = load_pretrained_vlm_for_vla(\n",
    "#     model_args, \n",
    "#     load_8bit=False, \n",
    "#     load_4bit=False,\n",
    "#     device='cuda',\n",
    "#     dtype=torch.bfloat16\n",
    "# )\n",
    "\n",
    "at = ActionTokenizer(tokenizer)\n",
    "\n",
    "batch_transform = RLDSBatchTransform(\n",
    "    tokenizer,\n",
    "    image_processor,\n",
    "    use_state_input=False,\n",
    "    action_tokenizer=at,\n",
    "    window_size=1,\n",
    "    future_action_window_size=7,\n",
    ")\n",
    "vla_dataset = RLDSDataset(\n",
    "    data_root_dir='/home/shared/rlds_datasets',\n",
    "    data_mix='libero_object_no_noops',\n",
    "    batch_transform=batch_transform,\n",
    "    shuffle_buffer_size=100,\n",
    "    window_size=1,\n",
    "    future_action_window_size=7,\n",
    "    train=True,\n",
    "    use_state_input = False\n",
    ")\n",
    "\n",
    "collator = PaddedCollatorForActionPrediction(\n",
    "    tokenizer.model_max_length, \n",
    "    tokenizer.pad_token_id, \n",
    "    padding_side='right', \n",
    "    use_state_input=False,\n",
    "    use_label=True\n",
    ")"
   ]
  },
  {
   "cell_type": "code",
   "execution_count": 5,
   "id": "eddaff12-42cb-45c4-8be2-c3cc5767276d",
   "metadata": {},
   "outputs": [],
   "source": [
    "for k in model.state_dict().keys():\n",
    "    if 'ema' in k:\n",
    "        print(k)"
   ]
  },
  {
   "cell_type": "code",
   "execution_count": 6,
   "id": "67d7c74f-5b06-4b5c-a0f4-56e1c374b42d",
   "metadata": {},
   "outputs": [],
   "source": [
    "dataloader = DataLoader(\n",
    "    vla_dataset,\n",
    "    batch_size=16,\n",
    "    sampler=None,\n",
    "    collate_fn=collator,\n",
    "    num_workers=0,  # Important =>> Set to 0 if using RLDS; TFDS rolls its own parallelism!\n",
    ")"
   ]
  },
  {
   "cell_type": "code",
   "execution_count": 7,
   "id": "5a8a3efb-e5b0-4a98-a099-6452593d55c8",
   "metadata": {},
   "outputs": [],
   "source": [
    "cfg = TrainingArguments()"
   ]
  },
  {
   "cell_type": "code",
   "execution_count": 8,
   "id": "dd2ae124-0031-4dad-bdbc-4c6032033e11",
   "metadata": {},
   "outputs": [],
   "source": [
    "for d in dataloader:\n",
    "    batch = d\n",
    "    break\n",
    "device_id = 0\n",
    "input_ids=batch['input_ids'].to(device_id)\n",
    "images=batch['pixel_values'].to(device_id)\n",
    "attention_mask=batch['attention_mask'].to(device_id)\n",
    "actionss=batch['action'].to(device_id)\n",
    "use_cache=True\n",
    "# states=batch['proprio'].to(device_id)\n",
    "past_key_values = None\n",
    "labels = batch['labels'].to(device_id)"
   ]
  },
  {
   "cell_type": "code",
   "execution_count": 9,
   "id": "b5d1b74d-ee87-4cf1-989d-33f1b347c704",
   "metadata": {},
   "outputs": [],
   "source": [
    "with torch.autocast('cuda', dtype=torch.bfloat16):\n",
    "    loss = model.forward(\n",
    "        input_ids=batch['input_ids'].to(device_id),\n",
    "        images=batch['pixel_values'].to(device_id),\n",
    "        attention_mask=batch['attention_mask'].to(device_id),\n",
    "        actions=batch['action'].to(device_id),\n",
    "        states=None,\n",
    "        labels=batch['labels'] if model.config.head_args['head_type'] == 'BR' else None\n",
    "    )"
   ]
  },
  {
   "cell_type": "code",
   "execution_count": 10,
   "id": "468faf4d-2b65-4482-b656-6ec04dfb0509",
   "metadata": {},
   "outputs": [
    {
     "data": {
      "text/plain": [
       "(tensor(-11.0193, device='cuda:0', grad_fn=<AddBackward0>),\n",
       " tensor(0.1470, device='cuda:0'),\n",
       " tensor(-5.6510, device='cuda:0', grad_fn=<MeanBackward0>),\n",
       " tensor(0.0510, device='cuda:0', grad_fn=<MeanBackward0>),\n",
       " tensor(-5.5663, device='cuda:0', grad_fn=<MeanBackward0>),\n",
       " tensor(-11.1663, device='cuda:0', grad_fn=<AddBackward0>))"
      ]
     },
     "execution_count": 10,
     "metadata": {},
     "output_type": "execute_result"
    }
   ],
   "source": [
    "loss.loss"
   ]
  },
  {
   "cell_type": "code",
   "execution_count": 11,
   "id": "a9432add-a941-4bdf-a006-764c58ebdf12",
   "metadata": {},
   "outputs": [],
   "source": [
    "import sys\n",
    "import torch\n",
    "import argparse\n",
    "from PIL import Image\n",
    "from pathlib import Path\n",
    "import numpy as np\n",
    "\n",
    "from spatialvla.mobilevlm.model.mobilevlm import load_vla, load_pretrained_model\n",
    "from spatialvla.mobilevlm.conversation import conv_templates, SeparatorStyle\n",
    "from spatialvla.mobilevlm.utils import disable_torch_init, process_images, tokenizer_image_token, KeywordsStoppingCriteria\n",
    "from spatialvla.mobilevlm.constants import IMAGE_TOKEN_INDEX, DEFAULT_IMAGE_TOKEN"
   ]
  },
  {
   "cell_type": "code",
   "execution_count": 12,
   "id": "7a623731-50d6-4872-9eb0-2bb9e20d5b37",
   "metadata": {},
   "outputs": [],
   "source": [
    "from dataclasses import dataclass\n",
    "from pathlib import Path\n",
    "from typing import Any, Dict, Tuple, Type\n",
    "\n",
    "import numpy as np\n",
    "import torch\n",
    "import copy\n",
    "from PIL import Image\n",
    "\n",
    "from torch.utils.data import Dataset, IterableDataset\n",
    "\n",
    "from transformers import PreTrainedTokenizerBase\n",
    "from transformers import AutoTokenizer, BitsAndBytesConfig\n",
    "\n",
    "from spatialvla.mobilevlm.utils import disable_torch_init, process_images, tokenizer_image_token, KeywordsStoppingCriteria\n",
    "# from prismatic.models.backbones.llm.prompting import PromptBuilder\n",
    "# from prismatic.models.backbones.vision import ImageTransform\n",
    "\n",
    "from spatialvla.mobilevlm.constants import IGNORE_INDEX, IMAGE_TOKEN_INDEX, DEFAULT_IMAGE_TOKEN, DEFAULT_IM_START_TOKEN, DEFAULT_IM_END_TOKEN\n",
    "from spatialvla.mobilevlm.conversation import conv_templates, SeparatorStyle\n",
    "\n",
    "from spatialvla.datasets.rlds.utils.data_utils import tree_map\n",
    "# from prismatic.vla.action_tokenizer import ActionTokenizer\n",
    "from spatialvla.datasets.rlds import make_interleaved_dataset, make_single_dataset\n",
    "from spatialvla.datasets.rlds.oxe import OXE_NAMED_MIXTURES, get_oxe_dataset_kwargs_and_weights\n",
    "from spatialvla.datasets.rlds.utils.data_utils import NormalizationType\n",
    "from transformers import PreTrainedTokenizerBase"
   ]
  },
  {
   "cell_type": "code",
   "execution_count": 31,
   "id": "0987e44b-5399-4ad9-8ebb-4c2ef83d3bc0",
   "metadata": {},
   "outputs": [],
   "source": [
    "with torch.inference_mode():\n",
    "    with torch.autocast('cuda', dtype=torch.bfloat16):\n",
    "        actions_br = model.predict_action_br(\n",
    "            input_ids=input_ids[:, :-8],\n",
    "            images=images[:],\n",
    "            num_denoise_steps=5\n",
    "    )"
   ]
  },
  {
   "cell_type": "code",
   "execution_count": 32,
   "id": "5506b164-d543-414c-90ba-e7cee813d2c9",
   "metadata": {},
   "outputs": [],
   "source": [
    "with torch.autocast('cuda', dtype=torch.bfloat16):\n",
    "    loss = model.forward(\n",
    "        input_ids=batch['input_ids'].to(device_id),\n",
    "        images=batch['pixel_values'].to(device_id),\n",
    "        attention_mask=batch['attention_mask'].to(device_id),\n",
    "        actions=batch['action'].to(device_id),\n",
    "        states= None,\n",
    "        labels=batch['labels'] if model.config.head_args['head_type'] == 'BR' else None\n",
    "    )\n",
    "    action_hidden = loss.hidden_states[-1]\n",
    "    action_hidden.shape\n",
    "    condition = model.condition_projector(action_hidden)\n",
    "    prior_action = torch.tensor(at.detokenize(at.discretize(batch['action'])))\n",
    "    batch_dict = {'obs':condition, 'action':batch['action'], 'tokenized_action':prior_action}\n",
    "    loss_args = {'prior_policy':'tokenized_action'}\n",
    "    loss, loss_info = model.si.get_loss(batch_dict, loss_args, 0)"
   ]
  },
  {
   "cell_type": "code",
   "execution_count": 33,
   "id": "12792931-9073-440e-ad46-f79f014a575d",
   "metadata": {},
   "outputs": [
    {
     "data": {
      "text/plain": [
       "tensor(0.0536, device='cuda:0')"
      ]
     },
     "execution_count": 33,
     "metadata": {},
     "output_type": "execute_result"
    }
   ],
   "source": [
    "import torch.nn as nn\n",
    "nn.functional.mse_loss(actionss, actions_br, reduction='mean')"
   ]
  },
  {
   "cell_type": "code",
   "execution_count": 34,
   "id": "b3bed663-0fcf-4521-b88f-a5701979b131",
   "metadata": {},
   "outputs": [
    {
     "data": {
      "text/plain": [
       "tensor([[[-2.2428e-01,  5.3489e-01,  4.2532e-02, -2.8720e-01,  5.9170e-01,\n",
       "           1.5709e-01, -3.7066e-02],\n",
       "         [-4.3468e-01,  2.7658e-01,  7.4887e-02,  1.3739e-01,  2.9340e-01,\n",
       "           7.3577e-02, -2.2221e-02],\n",
       "         [-2.5119e-01,  1.8927e-01,  1.0193e-01,  6.5518e-02,  3.5578e-01,\n",
       "          -1.5045e-02, -1.7357e-02],\n",
       "         [-3.1229e-01,  1.4499e-01, -3.2631e-02, -5.0003e-02, -3.4675e-02,\n",
       "          -1.6628e-02,  1.5002e-01],\n",
       "         [-3.6714e-01,  2.6478e-01,  6.6200e-02, -7.8058e-01, -1.6479e-01,\n",
       "          -5.4850e-03,  8.5858e-02],\n",
       "         [-2.4259e-01,  1.2490e-01,  4.2158e-02, -9.5802e-01, -1.4603e-01,\n",
       "           7.6396e-02,  2.0476e-01],\n",
       "         [-1.0821e-01, -5.4518e-02,  4.6936e-02, -3.2711e-01, -9.6163e-02,\n",
       "           1.1714e-01, -7.7339e-02],\n",
       "         [-2.1086e-02, -5.2041e-02,  1.5367e-01, -4.1726e-01, -9.3012e-02,\n",
       "          -1.0499e-01,  6.2115e-02]],\n",
       "\n",
       "        [[ 3.0576e-01,  1.5222e-01, -1.4650e-02, -2.7122e-01,  5.6122e-01,\n",
       "           1.9464e-01,  3.8249e-02],\n",
       "         [ 1.2915e-01, -3.7625e-02, -1.0702e-01, -3.4719e-01, -3.3115e-01,\n",
       "           1.4117e-01, -3.1213e-02],\n",
       "         [ 1.8838e-01,  1.7850e-01, -9.2043e-03, -3.4144e-01, -1.4642e-01,\n",
       "          -8.1076e-02,  1.2396e-01],\n",
       "         [ 8.5636e-02, -7.1990e-02, -7.0720e-02, -3.2221e-01, -1.6039e-01,\n",
       "           4.8100e-02, -1.7104e-01],\n",
       "         [ 2.9368e-01, -5.6943e-02, -1.5030e-01, -5.0098e-01, -2.0642e-01,\n",
       "           1.1398e-01,  1.7894e-01],\n",
       "         [ 1.5905e-01,  9.8176e-03, -6.7419e-02, -3.5917e-01, -2.9946e-01,\n",
       "           1.2334e-01, -1.0157e-01],\n",
       "         [-4.8439e-01,  6.3565e-02, -2.1283e-02, -2.3564e-01,  2.8995e-01,\n",
       "           1.5056e-01,  1.5487e-01],\n",
       "         [-4.5911e-01,  1.9460e-01, -1.6752e-01,  2.3857e-01,  3.0181e-01,\n",
       "           3.6865e-01, -6.8043e-03]],\n",
       "\n",
       "        [[ 5.4249e-02, -4.7461e-01,  2.7780e-02,  3.5190e-02, -1.4046e-02,\n",
       "          -5.8498e-02,  1.1486e-02],\n",
       "         [-3.7421e-02,  3.0367e-01,  6.1445e-02,  9.1276e-03, -1.4368e-01,\n",
       "          -1.0475e-01,  8.4078e-02],\n",
       "         [-1.2416e-01,  1.6133e-01,  1.6429e-01, -1.2923e-01, -4.6971e-01,\n",
       "          -2.1578e-01,  2.6093e-02],\n",
       "         [-1.2479e-01,  9.8584e-02,  6.4334e-02, -1.9458e-01, -8.0895e-02,\n",
       "          -3.8498e-01, -2.9542e-02],\n",
       "         [-8.0789e-02, -3.8525e-02,  8.1113e-02, -2.6502e-01,  1.4056e-02,\n",
       "           3.9957e-01,  6.6858e-02],\n",
       "         [ 7.4927e-02,  2.9353e-02,  1.8962e-01,  1.5225e-01,  9.2494e-02,\n",
       "           1.2066e-01,  2.2424e-02],\n",
       "         [-5.1968e-02, -4.3968e-02,  1.6617e-01, -9.9524e-02,  5.7577e-01,\n",
       "           2.2725e-01,  8.4400e-02],\n",
       "         [ 1.8543e-01,  9.9311e-02, -2.7396e-02,  3.2543e-02, -3.4988e-01,\n",
       "           4.2196e-02, -1.3680e-01]],\n",
       "\n",
       "        [[ 5.4941e-01, -8.2912e-02, -6.4356e-03,  6.3089e-01, -3.0930e-02,\n",
       "          -3.9557e-01,  8.3890e-02],\n",
       "         [-4.8929e-01, -1.0041e-02, -9.4088e-02,  2.9745e-01, -1.9591e-01,\n",
       "           4.3354e-01, -9.5999e-03],\n",
       "         [-2.6470e-01,  2.2383e-02,  2.9918e-01, -3.3410e-02,  6.2050e-02,\n",
       "           4.1271e-01,  2.6548e-02],\n",
       "         [-2.6514e-01, -2.7206e-03,  5.2658e-02, -2.3343e-01,  3.1550e-02,\n",
       "           2.3430e-01,  6.8941e-02],\n",
       "         [ 5.3639e-01,  1.9549e-01,  1.7426e-01, -1.7991e-01,  2.4696e-01,\n",
       "           1.8812e-01,  1.5386e-01],\n",
       "         [ 2.1752e-01, -2.1409e-01,  1.5039e-01,  2.0421e-01,  8.1199e-02,\n",
       "           1.0948e-01, -7.1965e-03],\n",
       "         [ 1.6638e-01, -9.5623e-02,  5.8480e-02,  7.8544e-02, -7.4720e-01,\n",
       "           1.1708e-02,  7.9260e-02],\n",
       "         [ 2.3096e-01,  2.1682e-01, -2.2260e-02, -2.1035e-01, -5.5082e-01,\n",
       "          -1.0082e-01,  1.5689e-01]],\n",
       "\n",
       "        [[ 3.1862e-02, -5.6081e-02,  1.2087e-01, -3.6580e-01, -4.8830e-01,\n",
       "           4.6550e-01, -1.6073e-02],\n",
       "         [-6.1075e-02, -1.1034e-01, -1.5324e-02,  1.4306e-02, -1.9774e-01,\n",
       "           3.2555e-01, -1.0379e-01],\n",
       "         [-3.0743e-02, -8.2057e-02, -1.0763e-01, -2.6371e-02,  5.2838e-01,\n",
       "           1.1639e-01, -9.4527e-02],\n",
       "         [ 8.1041e-02, -4.3318e-02, -2.5631e-01,  1.4593e-02, -3.0198e-01,\n",
       "          -3.7169e-02, -8.8948e-02],\n",
       "         [-8.6139e-02,  2.0088e-02, -1.5141e-01, -1.2099e-01, -1.5360e-01,\n",
       "           1.7772e-01,  6.2398e-02],\n",
       "         [-6.7348e-02, -8.0667e-02,  6.9315e-02,  4.0687e-01, -4.2567e-02,\n",
       "           1.6905e-01,  6.3405e-02],\n",
       "         [-1.8396e-02, -3.5336e-02,  2.4981e-01, -1.1549e-01,  4.0021e-02,\n",
       "           7.6749e-02, -8.8848e-02],\n",
       "         [ 2.5998e-02, -8.4223e-02, -5.2084e-01, -7.1907e-02,  4.4353e-02,\n",
       "           6.8391e-02,  5.8635e-02]],\n",
       "\n",
       "        [[-1.4058e-01,  3.1141e-02, -7.5468e-02, -7.9689e-01, -4.8306e-02,\n",
       "          -1.1587e-02, -5.9328e-03],\n",
       "         [-1.2696e-01, -6.0840e-02,  6.3728e-02, -1.8418e-01, -1.1823e-02,\n",
       "          -8.8246e-02, -7.2887e-03],\n",
       "         [-4.9114e-02,  3.1071e-02,  4.5777e-02,  2.3655e-01,  5.8102e-02,\n",
       "          -8.0998e-02, -1.6556e-01],\n",
       "         [-9.1798e-02,  3.1038e-02,  1.3861e-02,  5.2849e-01,  8.6748e-02,\n",
       "          -7.1680e-02, -4.9897e-02],\n",
       "         [-3.6285e-03,  2.2602e-02,  6.1437e-02, -2.4728e-01,  7.9133e-02,\n",
       "          -7.3943e-02, -6.1964e-02],\n",
       "         [ 7.0793e-02,  2.2355e-02,  8.5837e-02, -6.0074e-02,  6.0796e-02,\n",
       "           2.5529e-03, -4.5719e-02],\n",
       "         [-1.5866e-02,  6.7446e-02,  9.0227e-02, -1.2887e-02,  9.7360e-02,\n",
       "          -6.3034e-02, -3.7707e-02],\n",
       "         [-6.4204e-02, -8.0978e-02,  7.7961e-02, -5.1273e-02, -3.9036e-02,\n",
       "          -2.5297e-02, -5.8947e-02]],\n",
       "\n",
       "        [[ 1.1089e-01,  1.6753e-02,  2.2690e-02,  1.2284e-01, -2.8645e-01,\n",
       "           2.6436e-01, -4.7456e-03],\n",
       "         [-2.0069e-02, -7.4622e-02, -1.2424e-02, -7.4684e-02,  5.9136e-01,\n",
       "           2.0566e-01, -3.0127e-02],\n",
       "         [ 1.2464e-01, -8.6279e-03, -2.4855e-01, -2.7847e-02, -3.8164e-01,\n",
       "          -7.4906e-02, -2.1091e-02],\n",
       "         [-2.6870e-02, -8.7862e-03, -1.7011e-01,  1.0558e-01, -1.7140e-01,\n",
       "           7.1104e-03, -6.5365e-02],\n",
       "         [-9.1508e-02,  1.3759e-02,  2.8213e-01,  4.7453e-01,  1.3439e-01,\n",
       "           8.5821e-02,  4.8779e-02],\n",
       "         [ 1.1470e-01,  8.4577e-03,  4.7613e-01, -1.1653e-01, -3.7761e-02,\n",
       "          -4.4862e-02,  7.9677e-02],\n",
       "         [ 8.9452e-02,  1.4563e-02, -3.8043e-01,  7.0462e-02,  3.1421e-02,\n",
       "           3.9798e-02, -3.4428e-02],\n",
       "         [ 1.0193e-01, -1.3935e-01, -2.4051e-01, -3.3784e-03,  8.9538e-02,\n",
       "           1.2984e-01,  1.1732e-01]],\n",
       "\n",
       "        [[-2.6116e-01, -1.4971e-01,  7.2985e-02, -7.7638e-02,  2.8009e-01,\n",
       "           5.4972e-01,  7.3291e-03],\n",
       "         [-1.2969e-01, -6.6143e-02, -1.2227e-02, -2.7972e-01,  1.6956e-01,\n",
       "          -3.7751e-01,  8.2424e-02],\n",
       "         [-1.9888e-01, -1.3806e-01,  4.0625e-02, -1.1950e-01,  5.1637e-02,\n",
       "          -1.0785e-01, -1.0330e-01],\n",
       "         [-1.1435e-01, -2.0786e-01,  1.8437e-01,  1.8455e-01, -8.2488e-02,\n",
       "          -1.0141e-01,  4.1255e-02],\n",
       "         [ 3.8148e-02, -1.9724e-01, -7.7464e-02,  3.8314e-01, -8.4840e-02,\n",
       "          -1.0548e-01, -1.8624e-01],\n",
       "         [-4.3152e-02, -1.9150e-02, -8.2480e-02, -5.7530e-01,  3.3716e-01,\n",
       "          -1.6401e-01,  6.3738e-02],\n",
       "         [-7.8267e-02,  1.1226e-01,  1.6642e-01,  4.0199e-02, -4.1673e-01,\n",
       "           7.8531e-02,  2.0236e-01],\n",
       "         [-1.5832e-01, -5.9043e-02,  4.1561e-02,  1.5700e-03, -2.0452e-01,\n",
       "           7.7279e-02, -4.7068e-02]],\n",
       "\n",
       "        [[ 1.7470e-01, -2.4549e-01, -4.6622e-02,  1.6558e-01,  2.4945e-01,\n",
       "          -7.6979e-02,  4.5333e-02],\n",
       "         [-2.8169e-02, -3.6864e-01,  4.1264e-02, -1.5159e-01, -7.9535e-02,\n",
       "          -5.8890e-02,  1.1683e-01],\n",
       "         [-1.2316e-01,  4.8625e-01,  8.7984e-02, -7.8829e-02, -2.3133e-01,\n",
       "          -1.8698e-01,  1.3753e-01],\n",
       "         [-2.0039e-01,  2.4323e-01,  8.5274e-03, -2.3844e-01, -4.0500e-01,\n",
       "          -2.2872e-01, -2.2352e-02],\n",
       "         [-5.5570e-02,  4.3635e-02,  2.2819e-01, -1.1611e-01, -1.0321e-01,\n",
       "          -4.8147e-01,  3.9446e-02],\n",
       "         [ 5.3045e-02, -1.0033e-02,  2.1666e-01, -1.9612e-01,  3.9703e-02,\n",
       "           3.1770e-01,  2.7452e-02],\n",
       "         [ 4.8738e-02, -9.9816e-02,  1.4731e-01,  7.7143e-02,  3.0398e-02,\n",
       "           3.2063e-01,  1.7280e-01],\n",
       "         [ 1.0027e+00,  1.0739e+00,  1.1997e+00,  2.2006e-01,  1.1365e+00,\n",
       "          -6.1502e-02, -1.1867e-01]],\n",
       "\n",
       "        [[ 2.0415e-01, -2.4082e-01, -3.5347e-01,  5.5018e-01,  2.2067e-01,\n",
       "          -2.8189e-01,  4.8819e-02],\n",
       "         [-1.1732e-02, -1.4935e-01,  3.7948e-01,  6.1400e-01,  1.2609e-01,\n",
       "          -3.5215e-02, -2.1932e-01],\n",
       "         [-3.7171e-02, -2.7491e-01,  3.3592e-01,  2.4214e-01, -8.3175e-02,\n",
       "           1.7418e-01, -3.5566e-02],\n",
       "         [-1.4450e-01, -2.6242e-02,  2.0317e-01,  2.7582e-01, -1.2623e-01,\n",
       "           1.3750e-01,  1.5692e-02],\n",
       "         [-2.1730e-01, -1.0725e-01, -1.6156e-01,  2.6797e-01, -3.1919e-01,\n",
       "           9.1759e-02, -1.8452e-01],\n",
       "         [-3.4108e-01, -1.2460e-01,  6.3814e-02,  2.7990e-01,  4.2148e-01,\n",
       "           4.6336e-02, -8.2300e-03],\n",
       "         [-9.2940e-02,  6.0351e-02, -9.9133e-03,  3.0132e-01,  5.0801e-01,\n",
       "          -3.6216e-04, -9.0999e-02],\n",
       "         [-3.4322e-01,  1.3339e-01, -3.1074e-01,  3.6676e-01,  4.4641e-02,\n",
       "          -2.9359e-02, -1.0273e-01]],\n",
       "\n",
       "        [[-3.1722e-02, -8.1864e-02, -1.3337e-02,  3.5080e-02, -1.1507e-01,\n",
       "           2.8638e-02, -9.0528e-04],\n",
       "         [ 3.4579e-02, -3.4628e-03,  1.3547e-04,  4.4767e-03, -4.9959e-03,\n",
       "          -1.7794e-02, -8.0963e-02],\n",
       "         [ 4.5848e-04,  4.8686e-02,  5.8439e-02,  6.8859e-02, -2.9102e-02,\n",
       "          -1.8137e-01, -6.3607e-02],\n",
       "         [-2.6276e-02,  1.1225e-01, -9.7920e-02,  8.2804e-02,  7.7742e-03,\n",
       "          -1.6041e-01, -8.0118e-02],\n",
       "         [ 3.6739e-02,  1.1621e-01,  5.6394e-02, -7.2278e-02,  2.1969e-01,\n",
       "          -2.1488e-02, -5.4296e-02],\n",
       "         [ 1.4726e-01,  1.0723e-01,  2.1123e-01, -4.7606e-02,  9.8367e-02,\n",
       "           6.8962e-02, -5.1622e-03],\n",
       "         [ 9.5915e-03,  2.7181e-02,  3.4966e-01,  4.2865e-02,  1.1494e-01,\n",
       "           2.0299e-01, -3.0480e-02],\n",
       "         [-1.4331e-01,  1.0483e-01, -4.5455e-01, -3.7353e-02, -1.1618e-01,\n",
       "           3.0870e-01,  2.3528e-02]],\n",
       "\n",
       "        [[-4.2913e-01,  1.1109e-03, -1.2150e-01, -6.5982e-01,  7.1296e-02,\n",
       "           3.1794e-02,  3.2040e-02],\n",
       "         [ 3.5537e-01,  7.3542e-02, -3.2190e-02, -3.8498e-01, -1.0871e-01,\n",
       "           1.1756e-01,  6.8835e-03],\n",
       "         [ 2.4758e-01,  1.6662e-03,  6.7485e-02, -2.7923e-01, -2.7567e-02,\n",
       "           4.1521e-02,  4.1311e-02],\n",
       "         [ 2.0969e-01,  3.0890e-02,  4.2117e-02,  6.8461e-03, -1.2423e-01,\n",
       "           8.7966e-02,  4.7735e-02],\n",
       "         [ 2.0546e-01,  3.1869e-02,  2.9858e-02,  4.7193e-01, -1.6511e-01,\n",
       "           1.2365e-01, -6.6518e-02],\n",
       "         [ 2.5676e-01,  1.8453e-01,  1.0766e-01,  3.7416e-01, -1.9366e-01,\n",
       "           1.0551e-01, -2.6580e-02],\n",
       "         [-5.5480e-01,  7.3165e-02,  1.8831e-03,  2.1071e-01, -1.0595e-01,\n",
       "           4.4137e-02, -5.4000e-03],\n",
       "         [-2.9803e-01,  1.5270e-02,  1.6333e-02,  4.8553e-02, -1.0046e-01,\n",
       "          -3.7863e-02, -2.7721e-02]],\n",
       "\n",
       "        [[-7.4404e-02, -1.0851e-01, -2.8856e-01,  8.1224e-02, -2.8341e-01,\n",
       "          -3.6573e-03,  3.8393e-02],\n",
       "         [-7.2325e-02, -8.3593e-02, -1.3114e-01,  2.1741e-01, -2.8933e-01,\n",
       "          -7.6388e-03,  5.8237e-02],\n",
       "         [-1.8322e-01, -1.1521e-01, -2.1135e-01,  1.2893e-01, -2.9960e-01,\n",
       "          -1.1048e-02, -2.9523e-02],\n",
       "         [-1.9572e-01, -1.0053e-01, -2.6882e-01,  7.6309e-02, -6.6490e-01,\n",
       "           6.6884e-02,  4.3354e-02],\n",
       "         [-2.8475e-01, -1.4546e-02, -3.6439e-01,  7.0333e-02,  8.2910e-02,\n",
       "          -1.0597e-01, -8.0388e-02],\n",
       "         [-4.9848e-01, -7.1700e-02, -5.5688e-01, -2.8955e-01, -2.1285e-03,\n",
       "           1.9284e-02,  9.8335e-01],\n",
       "         [-7.2972e-01, -9.4128e-02,  3.4284e-01, -1.1058e-01, -6.0668e-02,\n",
       "           1.1061e-01,  9.5284e-02],\n",
       "         [ 2.6198e-01, -9.5742e-02,  1.4792e-01,  5.4349e-02, -1.4141e-02,\n",
       "          -9.9256e-03,  5.5736e-02]],\n",
       "\n",
       "        [[ 4.4416e-01,  3.3796e-04, -1.6305e-01,  4.3448e-01, -1.9635e-01,\n",
       "           6.0927e-02,  7.8310e-02],\n",
       "         [-4.1386e-01, -1.0892e-01,  3.7496e-02,  2.3164e-01, -1.6341e-01,\n",
       "           1.2787e-01, -2.9398e-02],\n",
       "         [-2.1127e-01,  1.6166e-02,  2.7527e-02,  1.1764e-02,  4.5937e-02,\n",
       "          -5.7320e-02, -8.9589e-02],\n",
       "         [-1.6632e-01,  6.7639e-03, -3.2156e-02, -4.3162e-01,  8.1872e-02,\n",
       "           2.4697e-02, -5.4359e-02],\n",
       "         [-4.6713e-02, -3.1781e-02, -1.7366e-02, -8.5438e-01,  2.0218e-01,\n",
       "           5.9320e-02, -8.3647e-02],\n",
       "         [ 1.2299e-01,  4.3593e-02,  3.4261e-02, -2.9728e-01,  1.1104e-01,\n",
       "          -5.7103e-02,  3.2153e-04],\n",
       "         [ 1.8635e-02, -1.7736e-02,  3.1704e-02,  7.7450e-02,  1.3694e-01,\n",
       "          -7.8834e-02, -6.8041e-02],\n",
       "         [ 2.9948e-02, -4.7123e-02,  5.6793e-02, -7.2010e-01,  3.2488e-02,\n",
       "          -1.8052e-02, -1.6347e-02]],\n",
       "\n",
       "        [[-7.5317e-02, -4.5585e-02, -3.0276e-02,  5.1388e-02, -8.2175e-02,\n",
       "           6.3916e-03, -3.1472e-02],\n",
       "         [ 1.3641e-02,  4.0689e-02,  4.9565e-02, -1.5021e-02, -1.6692e-02,\n",
       "           5.2045e-03, -7.0408e-02],\n",
       "         [ 3.4553e-02,  7.8835e-02,  5.4659e-02,  5.2750e-02, -7.7936e-02,\n",
       "          -1.2944e-01, -8.1861e-02],\n",
       "         [-1.4721e-01,  4.0744e-02, -6.6395e-02, -1.2115e-02, -1.3256e-01,\n",
       "          -1.3007e-01, -7.1556e-02],\n",
       "         [-1.1834e-01,  5.2968e-02,  6.3475e-03, -4.7281e-02,  2.8715e-02,\n",
       "          -2.0717e-01, -2.2581e-02],\n",
       "         [-1.5130e-02, -4.3551e-02, -1.8432e-02, -2.3904e-02, -7.1734e-02,\n",
       "          -9.8121e-02, -3.9336e-02],\n",
       "         [ 1.1171e-01, -4.1616e-02,  6.5426e-02, -1.5710e-02,  5.4684e-02,\n",
       "           7.9732e-02,  9.8388e-03],\n",
       "         [ 7.6028e-02,  3.7387e-02,  1.7024e-01, -7.5510e-02, -9.5371e-02,\n",
       "           1.3540e-01,  8.1610e-03]],\n",
       "\n",
       "        [[ 3.1806e-02,  8.7006e-02,  1.3360e-01,  3.7555e-02, -3.4357e-01,\n",
       "          -2.2619e-01, -2.1095e-01],\n",
       "         [-3.7858e-02, -1.0806e-01,  7.3752e-02,  3.1698e-03, -5.6583e-02,\n",
       "          -3.8877e-01, -3.0167e-02],\n",
       "         [-1.0988e-01, -8.0909e-02, -6.3702e-02, -1.1683e-01, -4.0683e-02,\n",
       "           5.1901e-01,  1.1595e-02],\n",
       "         [ 4.3043e-02,  5.3111e-02, -9.5973e-02,  3.9430e-01, -4.3974e-02,\n",
       "           6.5079e-02, -8.5840e-02],\n",
       "         [-1.0914e-01, -5.8454e-02, -1.0323e-02,  2.2762e-02,  6.3755e-01,\n",
       "           1.7373e-01,  6.3557e-02],\n",
       "         [-2.4727e-02, -3.9870e-03, -1.2567e-01,  1.0600e-02, -4.2034e-01,\n",
       "           6.6005e-02,  4.0407e-03],\n",
       "         [ 8.1459e-01,  1.2931e+00,  8.7141e-01, -6.3344e-02, -1.0694e-01,\n",
       "          -8.8178e-02,  3.8532e-02],\n",
       "         [ 8.0376e-01,  1.3603e+00,  7.6133e-01,  1.0129e+00, -9.1155e-02,\n",
       "           3.6713e-02, -6.3840e-02]]], device='cuda:0')"
      ]
     },
     "execution_count": 34,
     "metadata": {},
     "output_type": "execute_result"
    }
   ],
   "source": [
    "actions_br - actionss"
   ]
  },
  {
   "cell_type": "code",
   "execution_count": 37,
   "id": "9465f946-4964-4944-9249-220d2dc55b68",
   "metadata": {},
   "outputs": [
    {
     "data": {
      "text/plain": [
       "tensor(0.3622, device='cuda:0')"
      ]
     },
     "execution_count": 37,
     "metadata": {},
     "output_type": "execute_result"
    }
   ],
   "source": [
    "nn.functional.mse_loss(actions_br[1], actionss[1], reduction='mean')"
   ]
  },
  {
   "cell_type": "code",
   "execution_count": 21,
   "id": "659651a0-bd43-46b9-a8b9-4d49bc930469",
   "metadata": {},
   "outputs": [
    {
     "data": {
      "text/plain": [
       "tensor(0.9945, device='cuda:0')"
      ]
     },
     "execution_count": 21,
     "metadata": {},
     "output_type": "execute_result"
    }
   ],
   "source": [
    "sum(sum(sum((actions_br - actionss[0:3]) ** 2)))/(3 * 7 * 8)"
   ]
  },
  {
   "cell_type": "code",
   "execution_count": 14,
   "id": "5c595a39-2dc6-49c0-bcb5-17083ac7d9e1",
   "metadata": {},
   "outputs": [],
   "source": [
    "prior_action = torch.tensor(at.detokenize(input_ids[0:3, -8:].cpu().numpy()))"
   ]
  },
  {
   "cell_type": "code",
   "execution_count": 15,
   "id": "bfb509ed-5d07-40c1-861b-0b7ca1819339",
   "metadata": {},
   "outputs": [],
   "source": [
    "with torch.inference_mode():\n",
    "    with torch.autocast('cuda', dtype=torch.bfloat16):\n",
    "        actions = model.predict_action(\n",
    "            input_ids=input_ids[0:3],\n",
    "            images=images[0:3],\n",
    "            prior_actions=prior_action,\n",
    "        )\n",
    "    \n",
    "# condition = model.condition_projector(action_hidden)\n",
    "# predicted_action = model.si.sample(\n",
    "#     x_prior=prior_action.cuda().to(dtype=torch.bfloat16),\n",
    "#     cond=condition.float().flatten(1),\n",
    "#     diffuse_step=5\n",
    "# )"
   ]
  },
  {
   "cell_type": "code",
   "execution_count": 16,
   "id": "0e48cf40-ccce-48d1-88b0-70295783b651",
   "metadata": {},
   "outputs": [
    {
     "data": {
      "text/plain": [
       "tensor([[[ 1.0144e+00,  3.4179e-01,  7.2654e-01,  3.9015e-01, -9.3770e-01,\n",
       "          -4.5149e-01, -7.6228e-01],\n",
       "         [ 2.0379e+00,  8.4566e-01,  9.0550e-02, -8.2488e-01, -1.2245e+00,\n",
       "          -6.4813e-01, -6.4755e-02],\n",
       "         [ 8.8245e-01,  8.7198e-02,  4.4365e-01, -2.2315e-01, -1.5250e+00,\n",
       "          -4.1966e-01, -4.1730e-01],\n",
       "         [ 1.3478e+00,  8.5450e-01,  1.0696e+00, -8.3486e-01, -1.7778e-01,\n",
       "          -2.8512e-01, -8.4387e-01],\n",
       "         [ 1.1205e+00,  1.0850e-01,  6.1234e-01, -1.0628e+00, -1.1799e+00,\n",
       "          -4.9026e-01, -5.8264e-01],\n",
       "         [ 1.3364e+00,  1.9319e+00,  1.2419e+00, -8.2427e-01, -9.5564e-02,\n",
       "          -8.9882e-01, -4.8563e-01],\n",
       "         [ 6.5008e-01,  1.5054e+00,  1.4593e+00, -1.1284e+00, -4.1123e-01,\n",
       "          -1.5325e-01, -4.8267e-01],\n",
       "         [ 9.0568e-01,  1.9906e+00,  1.4715e+00, -1.0812e+00,  3.9649e-04,\n",
       "          -3.5556e-01, -7.1115e-01]],\n",
       "\n",
       "        [[-1.3972e+00,  5.5643e-01, -9.5746e-01,  3.8262e-01, -8.7173e-01,\n",
       "          -3.8574e-01,  4.7621e-01],\n",
       "         [-5.6047e-01,  1.9633e-01, -1.5296e+00, -7.8944e-02, -9.6177e-01,\n",
       "          -2.0997e-01,  1.0995e+00],\n",
       "         [-1.1855e+00,  1.0973e-01, -8.5225e-01,  1.6100e-01, -7.4583e-01,\n",
       "          -9.3742e-01,  6.9915e-01],\n",
       "         [-5.4423e-01,  6.6443e-01, -1.2738e+00, -6.7833e-02, -3.7574e-01,\n",
       "          -3.2492e-01, -5.7841e-01],\n",
       "         [-1.1667e+00,  2.8356e-01, -1.6832e+00,  3.4011e-01, -9.6947e-01,\n",
       "          -4.9770e-01, -5.5209e-01],\n",
       "         [-4.4058e-01, -5.0579e-01, -1.0637e+00,  5.4880e-01, -3.9574e-01,\n",
       "          -5.2139e-01, -2.0701e-01],\n",
       "         [-6.9887e-01, -7.0929e-01, -8.7549e-01, -1.0661e-02, -9.1293e-01,\n",
       "          -4.9329e-02, -5.0756e-01],\n",
       "         [-7.9984e-01, -5.4851e-01, -8.1917e-01,  1.9620e-01, -2.2883e-01,\n",
       "          -5.0310e-02, -5.4499e-01]],\n",
       "\n",
       "        [[ 9.1325e-01,  5.1723e-01, -1.6128e-01,  4.8438e-01, -8.2418e-01,\n",
       "          -4.2197e-01, -5.3295e-01],\n",
       "         [ 1.8305e+00,  5.5784e-01, -5.3332e-02, -7.4046e-01, -1.1511e+00,\n",
       "          -3.0300e-01,  2.4176e-01],\n",
       "         [ 9.6141e-01,  2.8252e-01,  7.3431e-01, -1.4230e-01, -1.6141e+00,\n",
       "          -6.1707e-01, -3.6846e-01],\n",
       "         [ 1.3332e+00,  6.9280e-01,  8.8839e-01,  2.2739e-01, -1.1438e+00,\n",
       "           6.6498e-03, -8.2833e-01],\n",
       "         [ 8.0429e-01,  4.9359e-01,  5.5714e-01,  2.3485e-01, -2.2075e+00,\n",
       "          -5.0562e-01, -4.5380e-01],\n",
       "         [ 1.4346e+00,  9.5631e-01,  1.3264e+00,  5.9037e-01, -1.1884e+00,\n",
       "          -7.1927e-01, -3.1312e-01],\n",
       "         [ 5.9379e-01,  5.9931e-01,  1.3076e+00, -1.0108e+00, -4.8619e-01,\n",
       "          -9.8449e-02, -3.6603e-01],\n",
       "         [ 8.9768e-01,  7.7384e-01,  1.1983e+00, -1.0478e+00, -5.8874e-02,\n",
       "          -2.5164e-01, -6.9157e-01]]], device='cuda:0')"
      ]
     },
     "execution_count": 16,
     "metadata": {},
     "output_type": "execute_result"
    }
   ],
   "source": [
    "actions"
   ]
  },
  {
   "cell_type": "code",
   "execution_count": 17,
   "id": "59576a8f-2c56-4bff-859b-c0c6cf4a0397",
   "metadata": {},
   "outputs": [
    {
     "data": {
      "text/plain": [
       "tensor(3.2844, device='cuda:0')"
      ]
     },
     "execution_count": 17,
     "metadata": {},
     "output_type": "execute_result"
    }
   ],
   "source": [
    "for d in dataloader:\n",
    "    batch = d\n",
    "    break\n",
    "device_id = 0\n",
    "input_ids=batch['input_ids'].to(device_id)\n",
    "images=batch['pixel_values'].to(device_id)\n",
    "attention_mask=batch['attention_mask'].to(device_id)\n",
    "actionss=batch['action'].to(device_id)\n",
    "use_cache=True\n",
    "# states=batch['proprio'].to(device_id)\n",
    "past_key_values = None\n",
    "labels = batch['labels'].to(device_id)\n",
    "\n",
    "with torch.inference_mode():\n",
    "    with torch.autocast('cuda', dtype=torch.bfloat16):\n",
    "        loss = model.forward(\n",
    "                input_ids=batch['input_ids'].to(device_id),\n",
    "                images=batch['pixel_values'].to(device_id),\n",
    "                attention_mask=batch['attention_mask'].to(device_id),\n",
    "                actions=batch['action'].to(device_id),\n",
    "                states=batch['proprio'] if model_args.use_state_input else None,\n",
    "                labels=batch['labels'] if model.config.head_args['head_type'] == 'BR' else None\n",
    "        )\n",
    "loss.loss[4]"
   ]
  },
  {
   "cell_type": "code",
   "execution_count": 18,
   "id": "9f17ab02-44ed-4d5a-9906-b5e9c6f109be",
   "metadata": {},
   "outputs": [],
   "source": [
    "action_logits = loss.logits[:, -51:-1]\n",
    "action_preds = action_logits.argmax(dim=2)\n",
    "action_gt = batch['labels'][:, -50:].to(action_logits.device)\n",
    "mask = action_gt > at.action_token_begin_idx\n",
    "correct_preds = (action_preds == action_gt) & mask\n",
    "action_accuracy = correct_preds.sum().float() / mask.sum().float()\n",
    "eps_loss = loss.loss[5]\n",
    "v_loss = loss.loss[2]\n",
    "s_loss = loss.loss[3]\n",
    "b_loss = loss.loss[4]\n",
    "tot_loss = loss.loss[0]\n",
    "ce_loss = loss.loss[1]"
   ]
  },
  {
   "cell_type": "code",
   "execution_count": 19,
   "id": "f5c816a1-9455-453d-ac70-d5c4c38b4660",
   "metadata": {},
   "outputs": [
    {
     "data": {
      "text/plain": [
       "tensor(3.2844, device='cuda:0')"
      ]
     },
     "execution_count": 19,
     "metadata": {},
     "output_type": "execute_result"
    }
   ],
   "source": [
    "b_loss"
   ]
  },
  {
   "cell_type": "code",
   "execution_count": 20,
   "id": "2fcfcf13-7712-47d4-9caf-3a0dbe62a950",
   "metadata": {},
   "outputs": [
    {
     "data": {
      "text/plain": [
       "tensor([[29878, 30992, 31223, 31223, 31141, 31114, 31033, 31033],\n",
       "        [30053, 30053, 30053, 30053, 30053, 30052, 29971, 29970],\n",
       "        [29878, 31223, 31223, 31141, 31114, 31033, 31033, 31060],\n",
       "        [29880, 29881, 29880, 29853, 29853, 29854, 30190, 30163],\n",
       "        [31060, 31060, 31060, 31060, 31060, 31060, 31060, 31030],\n",
       "        [ 4989, 31030, 31111, 31111, 31138, 31138, 31139, 31139],\n",
       "        [29890, 29961, 29961, 29880, 29880, 29880, 29880, 29880],\n",
       "        [29999, 30268, 30025, 30025, 30025, 30025, 30026, 30026],\n",
       "        [29881, 30974, 30992, 31223, 31223, 31141, 31114, 31033],\n",
       "        [29926, 29853, 29853, 29854, 30190, 30163, 30163, 30244],\n",
       "        [29890, 29961, 29961, 29961, 29880, 29880, 29880, 29880],\n",
       "        [29880, 29880, 29880, 29880, 29880, 29880, 29881, 29881],\n",
       "        [29872, 30190, 30163, 30163, 30244, 30245, 30974, 30974],\n",
       "        [29853, 30432, 30432, 30189, 30270, 30267, 30267, 30268],\n",
       "        [29881, 29881, 29881, 29880, 29853, 29853, 29854, 30190],\n",
       "        [29881, 29880, 29880, 29881, 29881, 29881, 29881, 29880]],\n",
       "       device='cuda:0')"
      ]
     },
     "execution_count": 20,
     "metadata": {},
     "output_type": "execute_result"
    }
   ],
   "source": [
    "action_preds[:, -8:]"
   ]
  },
  {
   "cell_type": "code",
   "execution_count": 21,
   "id": "54d2e924-d865-4bba-94e2-350b0f1925f7",
   "metadata": {},
   "outputs": [
    {
     "data": {
      "text/plain": [
       "tensor([[30974, 30992, 31223, 31223, 31141, 31114, 31033, 31033],\n",
       "        [30026, 30053, 30053, 30053, 30053, 30052, 29971, 29970],\n",
       "        [30992, 31223, 31223, 31141, 31114, 31033, 31033, 31060],\n",
       "        [29881, 29881, 29880, 29853, 29853, 29854, 30190, 30163],\n",
       "        [31060, 31060, 31060, 31060, 31060, 31060, 31060, 31030],\n",
       "        [31030, 31030, 31111, 31111, 31138, 31138, 31139, 31139],\n",
       "        [29961, 29961, 29961, 29880, 29880, 29880, 29880, 29880],\n",
       "        [30267, 30268, 30025, 30025, 30025, 30025, 30026, 30026],\n",
       "        [30974, 30974, 30992, 31223, 31223, 31141, 31114, 31033],\n",
       "        [29880, 29853, 29853, 29854, 30190, 30163, 30163, 30244],\n",
       "        [29961, 29961, 29961, 29961, 29880, 29880, 29880, 29880],\n",
       "        [29880, 29880, 29880, 29880, 29880, 29880, 29881, 29881],\n",
       "        [29854, 30190, 30163, 30163, 30244, 30245, 30974, 30974],\n",
       "        [30432, 30432, 30432, 30189, 30270, 30267, 30267, 30268],\n",
       "        [29881, 29881, 29881, 29880, 29853, 29853, 29854, 30190],\n",
       "        [29880, 29880, 29880, 29881, 29881, 29881, 29881, 29880]],\n",
       "       device='cuda:0')"
      ]
     },
     "execution_count": 21,
     "metadata": {},
     "output_type": "execute_result"
    }
   ],
   "source": [
    "action_gt[:, -8:]"
   ]
  },
  {
   "cell_type": "code",
   "execution_count": 22,
   "id": "8bd9b9df-1709-4578-888c-280c2b69843a",
   "metadata": {},
   "outputs": [
    {
     "data": {
      "text/plain": [
       "tensor([[30974, 30992, 31223, 31223, 31141, 31114, 31033, 31033],\n",
       "        [30026, 30053, 30053, 30053, 30053, 30052, 29971, 29970],\n",
       "        [30992, 31223, 31223, 31141, 31114, 31033, 31033, 31060],\n",
       "        [29881, 29881, 29880, 29853, 29853, 29854, 30190, 30163],\n",
       "        [31060, 31060, 31060, 31060, 31060, 31060, 31060, 31030],\n",
       "        [31030, 31030, 31111, 31111, 31138, 31138, 31139, 31139],\n",
       "        [29961, 29961, 29961, 29880, 29880, 29880, 29880, 29880],\n",
       "        [30267, 30268, 30025, 30025, 30025, 30025, 30026, 30026],\n",
       "        [30974, 30974, 30992, 31223, 31223, 31141, 31114, 31033],\n",
       "        [29880, 29853, 29853, 29854, 30190, 30163, 30163, 30244],\n",
       "        [29961, 29961, 29961, 29961, 29880, 29880, 29880, 29880],\n",
       "        [29880, 29880, 29880, 29880, 29880, 29880, 29881, 29881],\n",
       "        [29854, 30190, 30163, 30163, 30244, 30245, 30974, 30974],\n",
       "        [30432, 30432, 30432, 30189, 30270, 30267, 30267, 30268],\n",
       "        [29881, 29881, 29881, 29880, 29853, 29853, 29854, 30190],\n",
       "        [29880, 29880, 29880, 29881, 29881, 29881, 29881, 29880]],\n",
       "       device='cuda:0')"
      ]
     },
     "execution_count": 22,
     "metadata": {},
     "output_type": "execute_result"
    }
   ],
   "source": [
    "input_ids[:, -8:]"
   ]
  },
  {
   "cell_type": "code",
   "execution_count": 23,
   "id": "f3ec5f49-585f-4a76-8671-092b47f88a75",
   "metadata": {},
   "outputs": [
    {
     "data": {
      "text/plain": [
       "tensor([[[ 1.0144e+00,  3.4179e-01,  7.2654e-01,  3.9015e-01, -9.3770e-01,\n",
       "          -4.5149e-01, -7.6228e-01],\n",
       "         [ 2.0379e+00,  8.4566e-01,  9.0550e-02, -8.2488e-01, -1.2245e+00,\n",
       "          -6.4813e-01, -6.4755e-02],\n",
       "         [ 8.8245e-01,  8.7198e-02,  4.4365e-01, -2.2315e-01, -1.5250e+00,\n",
       "          -4.1966e-01, -4.1730e-01],\n",
       "         [ 1.3478e+00,  8.5450e-01,  1.0696e+00, -8.3486e-01, -1.7778e-01,\n",
       "          -2.8512e-01, -8.4387e-01],\n",
       "         [ 1.1205e+00,  1.0850e-01,  6.1234e-01, -1.0628e+00, -1.1799e+00,\n",
       "          -4.9026e-01, -5.8264e-01],\n",
       "         [ 1.3364e+00,  1.9319e+00,  1.2419e+00, -8.2427e-01, -9.5564e-02,\n",
       "          -8.9882e-01, -4.8563e-01],\n",
       "         [ 6.5008e-01,  1.5054e+00,  1.4593e+00, -1.1284e+00, -4.1123e-01,\n",
       "          -1.5325e-01, -4.8267e-01],\n",
       "         [ 9.0568e-01,  1.9906e+00,  1.4715e+00, -1.0812e+00,  3.9649e-04,\n",
       "          -3.5556e-01, -7.1115e-01]],\n",
       "\n",
       "        [[-1.3972e+00,  5.5643e-01, -9.5746e-01,  3.8262e-01, -8.7173e-01,\n",
       "          -3.8574e-01,  4.7621e-01],\n",
       "         [-5.6047e-01,  1.9633e-01, -1.5296e+00, -7.8944e-02, -9.6177e-01,\n",
       "          -2.0997e-01,  1.0995e+00],\n",
       "         [-1.1855e+00,  1.0973e-01, -8.5225e-01,  1.6100e-01, -7.4583e-01,\n",
       "          -9.3742e-01,  6.9915e-01],\n",
       "         [-5.4423e-01,  6.6443e-01, -1.2738e+00, -6.7833e-02, -3.7574e-01,\n",
       "          -3.2492e-01, -5.7841e-01],\n",
       "         [-1.1667e+00,  2.8356e-01, -1.6832e+00,  3.4011e-01, -9.6947e-01,\n",
       "          -4.9770e-01, -5.5209e-01],\n",
       "         [-4.4058e-01, -5.0579e-01, -1.0637e+00,  5.4880e-01, -3.9574e-01,\n",
       "          -5.2139e-01, -2.0701e-01],\n",
       "         [-6.9887e-01, -7.0929e-01, -8.7549e-01, -1.0661e-02, -9.1293e-01,\n",
       "          -4.9329e-02, -5.0756e-01],\n",
       "         [-7.9984e-01, -5.4851e-01, -8.1917e-01,  1.9620e-01, -2.2883e-01,\n",
       "          -5.0310e-02, -5.4499e-01]],\n",
       "\n",
       "        [[ 9.1325e-01,  5.1723e-01, -1.6128e-01,  4.8438e-01, -8.2418e-01,\n",
       "          -4.2197e-01, -5.3295e-01],\n",
       "         [ 1.8305e+00,  5.5784e-01, -5.3332e-02, -7.4046e-01, -1.1511e+00,\n",
       "          -3.0300e-01,  2.4176e-01],\n",
       "         [ 9.6141e-01,  2.8252e-01,  7.3431e-01, -1.4230e-01, -1.6141e+00,\n",
       "          -6.1707e-01, -3.6846e-01],\n",
       "         [ 1.3332e+00,  6.9280e-01,  8.8839e-01,  2.2739e-01, -1.1438e+00,\n",
       "           6.6498e-03, -8.2833e-01],\n",
       "         [ 8.0429e-01,  4.9359e-01,  5.5714e-01,  2.3485e-01, -2.2075e+00,\n",
       "          -5.0562e-01, -4.5380e-01],\n",
       "         [ 1.4346e+00,  9.5631e-01,  1.3264e+00,  5.9037e-01, -1.1884e+00,\n",
       "          -7.1927e-01, -3.1312e-01],\n",
       "         [ 5.9379e-01,  5.9931e-01,  1.3076e+00, -1.0108e+00, -4.8619e-01,\n",
       "          -9.8449e-02, -3.6603e-01],\n",
       "         [ 8.9768e-01,  7.7384e-01,  1.1983e+00, -1.0478e+00, -5.8874e-02,\n",
       "          -2.5164e-01, -6.9157e-01]]], device='cuda:0')"
      ]
     },
     "execution_count": 23,
     "metadata": {},
     "output_type": "execute_result"
    }
   ],
   "source": [
    "actions"
   ]
  }
 ],
 "metadata": {
  "kernelspec": {
   "display_name": "Python 3 (ipykernel)",
   "language": "python",
   "name": "python3"
  },
  "language_info": {
   "codemirror_mode": {
    "name": "ipython",
    "version": 3
   },
   "file_extension": ".py",
   "mimetype": "text/x-python",
   "name": "python",
   "nbconvert_exporter": "python",
   "pygments_lexer": "ipython3",
   "version": "3.10.15"
  }
 },
 "nbformat": 4,
 "nbformat_minor": 5
}
