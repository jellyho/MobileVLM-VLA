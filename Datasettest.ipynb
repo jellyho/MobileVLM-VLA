{
 "cells": [
  {
   "cell_type": "code",
   "execution_count": 1,
   "id": "59dd4352-4fc4-4809-b9be-893e5a878611",
   "metadata": {},
   "outputs": [
    {
     "name": "stdout",
     "output_type": "stream",
     "text": [
      "Number of GPUs available: 1\n",
      "GPU 0: NVIDIA L40S\n",
      "Using device: cuda:0\n"
     ]
    }
   ],
   "source": [
    "import os\n",
    "\n",
    "# Restrict PyTorch to only see GPU 0\n",
    "os.environ[\"CUDA_VISIBLE_DEVICES\"] = \"0\"\n",
    "import torch\n",
    "\n",
    "if torch.cuda.is_available():\n",
    "    print(f\"Number of GPUs available: {torch.cuda.device_count()}\")\n",
    "    for i in range(torch.cuda.device_count()):\n",
    "        print(f\"GPU {i}: {torch.cuda.get_device_name(i)}\")\n",
    "else:\n",
    "    print(\"CUDA is not available, using CPU.\")\n",
    "device = torch.device(\"cuda:0\" if torch.cuda.is_available() else \"cpu\")\n",
    "print(f\"Using device: {device}\")"
   ]
  },
  {
   "cell_type": "code",
   "execution_count": 2,
   "id": "1fdfb60b-b79e-4e9e-99a6-92f9a542bdcf",
   "metadata": {},
   "outputs": [
    {
     "name": "stderr",
     "output_type": "stream",
     "text": [
      "2024-12-11 10:35:50.174649: I tensorflow/core/util/port.cc:113] oneDNN custom operations are on. You may see slightly different numerical results due to floating-point round-off errors from different computation orders. To turn them off, set the environment variable `TF_ENABLE_ONEDNN_OPTS=0`.\n",
      "2024-12-11 10:35:50.204144: E external/local_xla/xla/stream_executor/cuda/cuda_dnn.cc:9261] Unable to register cuDNN factory: Attempting to register factory for plugin cuDNN when one has already been registered\n",
      "2024-12-11 10:35:50.204193: E external/local_xla/xla/stream_executor/cuda/cuda_fft.cc:607] Unable to register cuFFT factory: Attempting to register factory for plugin cuFFT when one has already been registered\n",
      "2024-12-11 10:35:50.205024: E external/local_xla/xla/stream_executor/cuda/cuda_blas.cc:1515] Unable to register cuBLAS factory: Attempting to register factory for plugin cuBLAS when one has already been registered\n",
      "2024-12-11 10:35:50.210359: I tensorflow/core/platform/cpu_feature_guard.cc:182] This TensorFlow binary is optimized to use available CPU instructions in performance-critical operations.\n",
      "To enable the following instructions: AVX2 AVX512F AVX512_VNNI AVX512_BF16 FMA, in other operations, rebuild TensorFlow with the appropriate compiler flags.\n",
      "2024-12-11 10:35:52.648650: W tensorflow/compiler/tf2tensorrt/utils/py_utils.cc:38] TF-TRT Warning: Could not find TensorRT\n"
     ]
    }
   ],
   "source": [
    "from spatialvla.datasets import RLDSBatchTransform, RLDSDataset"
   ]
  },
  {
   "cell_type": "code",
   "execution_count": 26,
   "id": "24c3bb21-d6fa-4142-add7-412018d13a8c",
   "metadata": {},
   "outputs": [
    {
     "name": "stdout",
     "output_type": "stream",
     "text": [
      "Loading with torch.bfloat16\n"
     ]
    },
    {
     "name": "stderr",
     "output_type": "stream",
     "text": [
      "You are using a model of type mobilevlm to instantiate a model of type spatialvla. This is not supported for all configurations of models and can yield errors.\n",
      "Some weights of SpatialVLAForCausalLM were not initialized from the model checkpoint at remyxai/SpaceLLaVA-lite and are newly initialized: ['action_head.diffusion_model.reverse_network.layers.1.dense2.weight', 'action_head.diffusion_model.reverse_network.layers.1.dense_residual.weight', 'action_head.diffusion_model.reverse_network.layers.2.dense2.weight', 'action_head.diffusion_model.reverse_network.layers.2.dense1.bias', 'action_head.diffusion_model.cond_encoder.mlp.1.bias', 'action_head.diffusion_model.reverse_network.out_dense.weight', 'action_head.diffusion_model.reverse_network.layers.2.layer_norm.weight', 'action_head.diffusion_model.reverse_network.layers.0.dense2.bias', 'action_head.diffusion_model.reverse_network.layers.0.dense2.weight', 'action_head.diffusion_model.reverse_network.layers.0.dense1.weight', 'action_head.diffusion_model.reverse_network.layers.0.dense_residual.weight', 'action_head.proj.weight', 'action_head.diffusion_model.reverse_network.in_dense.bias', 'state_proj.0.bias', 'action_head.diffusion_model.reverse_network.layers.2.dense_residual.bias', 'action_head.diffusion_model.reverse_network.layers.0.layer_norm.bias', 'action_head.proj.bias', 'state_proj.2.bias', 'action_head.diffusion_model.reverse_network.in_dense.weight', 'action_head.diffusion_model.cond_encoder.mlp.0.bias', 'action_head.diffusion_model.reverse_network.out_dense.bias', 'action_head.diffusion_model.reverse_network.layers.1.layer_norm.bias', 'action_pos', 'action_head.diffusion_model.reverse_network.layers.2.dense1.weight', 'action_head.diffusion_model.reverse_network.layers.2.dense2.bias', 'action_head.diffusion_model.reverse_network.layers.1.dense1.weight', 'state_proj.2.weight', 'action_head.diffusion_model.reverse_network.layers.0.dense1.bias', 'action_head.diffusion_model.reverse_network.layers.1.dense_residual.bias', 'action_head.diffusion_model.cond_encoder.mlp.1.weight', 'action_head.diffusion_model.reverse_network.layers.0.layer_norm.weight', 'action_head.diffusion_model.time_preprocess.kernel', 'action_head.diffusion_model.reverse_network.layers.2.layer_norm.bias', 'action_head.diffusion_model.reverse_network.layers.1.dense2.bias', 'action_head.diffusion_model.reverse_network.layers.1.layer_norm.weight', 'state_pos', 'state_proj.0.weight', 'action_head.diffusion_model.reverse_network.layers.2.dense_residual.weight', 'action_head.diffusion_model.cond_encoder.mlp.0.weight', 'action_head.diffusion_model.reverse_network.layers.0.dense_residual.bias', 'action_head.diffusion_model.reverse_network.layers.1.dense1.bias']\n",
      "You should probably TRAIN this model on a down-stream task to be able to use it for predictions and inference.\n",
      "You are resizing the embedding layer without providing a `pad_to_multiple_of` parameter. This means that the new embedding dimension will be 32000. This might induce some performance reduction as *Tensor Cores* will not be available. For more details about this, or help on choosing the correct value for resizing, refer to this guide: https://docs.nvidia.com/deeplearning/performance/dl-performance-matrix-multiplication/index.html#requirements-tc\n"
     ]
    }
   ],
   "source": [
    "from spatialvla.mobilevlm.model.mobilevlm import load_pretrained_vlm_for_vla, load_vla\n",
    "from scripts.spatialvla_config import ModelArguments, TrainingArguments\n",
    "import transformers\n",
    "\n",
    "model_args = ModelArguments()\n",
    "model_args.use_state_input = True\n",
    "\n",
    "tokenizer, model, image_processor, _ = load_pretrained_vlm_for_vla(\n",
    "    model_args,\n",
    "    load_8bit=False, \n",
    "    load_4bit=False,\n",
    "    device='cuda',\n",
    ")\n",
    "# tokenizer, model, image_processor, _ = load_vla('/home/jellyho/Bimanual_Imitation/MobileVLM-VLA/checkpoints/libero_object_octo_full')"
   ]
  },
  {
   "cell_type": "code",
   "execution_count": 27,
   "id": "0c0b3d62-b6de-41a2-a1d2-04d1c4fa9080",
   "metadata": {},
   "outputs": [],
   "source": [
    "## RLDS Dataset loading\n",
    "batch_transform = RLDSBatchTransform(\n",
    "        tokenizer,\n",
    "        image_processor,\n",
    "    )\n",
    "# Init complete"
   ]
  },
  {
   "cell_type": "code",
   "execution_count": 28,
   "id": "5a8a3efb-e5b0-4a98-a099-6452593d55c8",
   "metadata": {},
   "outputs": [],
   "source": [
    "cfg = TrainingArguments()"
   ]
  },
  {
   "cell_type": "code",
   "execution_count": 29,
   "id": "7c0384d1-d6b3-4a5a-99fe-6baee45fe4cb",
   "metadata": {},
   "outputs": [
    {
     "name": "stdout",
     "output_type": "stream",
     "text": [
      "{'name': 'libero_object_no_noops', 'data_dir': '/home/shared/rlds_datasets', 'image_obs_keys': {'primary': 'image'}, 'state_obs_keys': ['EEF_state', 'gripper_state'], 'absolute_action_mask': [False, False, False, False, False, False, True], 'action_normalization_mask': [True, True, True, True, True, True, False], 'action_proprio_normalization_type': <NormalizationType.NORMAL: 'normal'>, 'language_key': 'language_instruction', 'standardize_fn': <function libero_dataset_transform at 0x148fb0cee440>}\n",
      "['EEF_state', 'gripper_state']\n"
     ]
    },
    {
     "name": "stderr",
     "output_type": "stream",
     "text": [
      "2024-12-11 10:40:41.314177: I tensorflow/core/grappler/optimizers/data/replicate_on_split.cc:32] Running replicate on split optimization\n",
      "2024-12-11 10:40:41.435512: I tensorflow/core/grappler/optimizers/data/replicate_on_split.cc:32] Running replicate on split optimization\n"
     ]
    },
    {
     "name": "stdout",
     "output_type": "stream",
     "text": [
      "['EEF_state', 'gripper_state']\n",
      "\n",
      "######################################################################################\n",
      "# Loading the following 1 datasets (incl. sampling weight):                         #\n",
      "# libero_object_no_noops: ==================================================1.000000 #\n",
      "######################################################################################\n",
      "\n",
      "Threads per Dataset:  [1]\n",
      "Reads per Dataset:  [1]\n",
      "Constructing datasets...\n",
      "['EEF_state', 'gripper_state']\n",
      "Applying frame transforms on dataset...\n"
     ]
    },
    {
     "name": "stderr",
     "output_type": "stream",
     "text": [
      "2024-12-11 10:40:41.572008: I tensorflow/core/grappler/optimizers/data/replicate_on_split.cc:32] Running replicate on split optimization\n"
     ]
    }
   ],
   "source": [
    "vla_dataset = RLDSDataset(\n",
    "        data_root_dir='/home/shared/rlds_datasets',\n",
    "        data_mix='libero_object_no_noops',\n",
    "        batch_transform=batch_transform,\n",
    "        shuffle_buffer_size=100,\n",
    "        window_size=1,\n",
    "        future_action_window_size=0,\n",
    "        use_state_input = True\n",
    "    )"
   ]
  },
  {
   "cell_type": "code",
   "execution_count": 30,
   "id": "957473c2-0df1-4fd4-b36a-613f00594b01",
   "metadata": {},
   "outputs": [],
   "source": [
    "from spatialvla.datasets.rlds.utils.data_utils import PaddedCollatorForActionPrediction\n",
    "\n",
    "collator = PaddedCollatorForActionPrediction(tokenizer.model_max_length, tokenizer.pad_token_id, padding_side='right')"
   ]
  },
  {
   "cell_type": "code",
   "execution_count": 31,
   "id": "3a0ed2f1-c1b7-4b97-b3a2-69a463668c58",
   "metadata": {},
   "outputs": [],
   "source": [
    "from torch.utils.data import DataLoader\n",
    "dataloader = DataLoader(\n",
    "        vla_dataset,\n",
    "        batch_size=128,\n",
    "        sampler=None,\n",
    "        collate_fn=collator,\n",
    "        num_workers=0,  # Important =>> Set to 0 if using RLDS; TFDS rolls its own parallelism!\n",
    "    )"
   ]
  },
  {
   "cell_type": "code",
   "execution_count": 32,
   "id": "1a1bfc90-b7e2-4f45-af97-9a545aa4d9b8",
   "metadata": {},
   "outputs": [],
   "source": [
    "for d in dataloader:\n",
    "    batch = d\n",
    "    if torch.sum(d['attention_mask'] == False) != 0:\n",
    "        break"
   ]
  },
  {
   "cell_type": "code",
   "execution_count": 34,
   "id": "3eb50541-9fe3-407d-afb8-5446b6a5936f",
   "metadata": {},
   "outputs": [
    {
     "data": {
      "text/plain": [
       "True"
      ]
     },
     "execution_count": 34,
     "metadata": {},
     "output_type": "execute_result"
    }
   ],
   "source": [
    "model.config.use_state_input"
   ]
  },
  {
   "cell_type": "code",
   "execution_count": 22,
   "id": "2b345457-5a1e-447f-989e-8b6e6e30c554",
   "metadata": {},
   "outputs": [],
   "source": [
    "device_id = 0\n",
    "input_ids=batch['input_ids'].to(device_id)\n",
    "images=batch['pixel_values'].to(device_id)\n",
    "attention_mask=batch['attention_mask'].to(device_id)\n",
    "use_cache=True\n",
    "states=batch['proprio']\n",
    "past_key_values = None\n",
    "labels = None\n",
    "\n",
    "with torch.no_grad():\n",
    "    with torch.autocast('cuda', dtype=torch.bfloat16):\n",
    "        input_ids, attention_mask, past_key_values, inputs_embeds, labels = model.prepare_inputs_labels_for_multimodal(input_ids, attention_mask, past_key_values, labels, images)"
   ]
  },
  {
   "cell_type": "code",
   "execution_count": 20,
   "id": "160d9eb1-c32d-4136-88cf-daf0ce460eec",
   "metadata": {},
   "outputs": [
    {
     "data": {
      "text/plain": [
       "torch.Size([128, 209])"
      ]
     },
     "execution_count": 20,
     "metadata": {},
     "output_type": "execute_result"
    }
   ],
   "source": [
    "attention_mask.shape"
   ]
  },
  {
   "cell_type": "code",
   "execution_count": 23,
   "id": "51d3c8c1-d507-43bd-a060-2a6cf65b1e6e",
   "metadata": {},
   "outputs": [],
   "source": [
    "states"
   ]
  },
  {
   "cell_type": "code",
   "execution_count": null,
   "id": "6b64e594-ee96-41e6-b270-1f8068e7ada7",
   "metadata": {},
   "outputs": [],
   "source": []
  }
 ],
 "metadata": {
  "kernelspec": {
   "display_name": "Python 3 (ipykernel)",
   "language": "python",
   "name": "python3"
  },
  "language_info": {
   "codemirror_mode": {
    "name": "ipython",
    "version": 3
   },
   "file_extension": ".py",
   "mimetype": "text/x-python",
   "name": "python",
   "nbconvert_exporter": "python",
   "pygments_lexer": "ipython3",
   "version": "3.10.15"
  }
 },
 "nbformat": 4,
 "nbformat_minor": 5
}
