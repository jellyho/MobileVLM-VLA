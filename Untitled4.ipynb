{
 "cells": [
  {
   "cell_type": "code",
   "execution_count": 2,
   "id": "8f2957a8-bc72-41b3-8cff-8bf09c823c37",
   "metadata": {},
   "outputs": [],
   "source": [
    "import numpy as np\n",
    "from transformers import AutoProcessor\n",
    "\n",
    "# Load the tokenizer from the Hugging Face hub\n",
    "tokenizer = AutoProcessor.from_pretrained(\"physical-intelligence/fast\", trust_remote_code=True)\n",
    "\n",
    "# Tokenize & decode action chunks (we use dummy data here)\n",
    "action_data = np.random.rand(256, 50, 14)    # one batch of action chunks\n",
    "tokens = tokenizer(action_data)              # tokens = list[int]\n",
    "decoded_actions = tokenizer.decode(tokens)"
   ]
  },
  {
   "cell_type": "code",
   "execution_count": 3,
   "id": "741057da-ce10-4cb4-817f-779e7b867e77",
   "metadata": {},
   "outputs": [
    {
     "data": {
      "text/plain": [
       "340"
      ]
     },
     "execution_count": 3,
     "metadata": {},
     "output_type": "execute_result"
    }
   ],
   "source": [
    "len(tokens[0])"
   ]
  },
  {
   "cell_type": "code",
   "execution_count": null,
   "id": "83776bc0-8be1-4e4e-a821-3c75782dc8b4",
   "metadata": {},
   "outputs": [],
   "source": []
  }
 ],
 "metadata": {
  "kernelspec": {
   "display_name": "Python 3 (ipykernel)",
   "language": "python",
   "name": "python3"
  },
  "language_info": {
   "codemirror_mode": {
    "name": "ipython",
    "version": 3
   },
   "file_extension": ".py",
   "mimetype": "text/x-python",
   "name": "python",
   "nbconvert_exporter": "python",
   "pygments_lexer": "ipython3",
   "version": "3.10.15"
  }
 },
 "nbformat": 4,
 "nbformat_minor": 5
}
