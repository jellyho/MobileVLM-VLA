{
 "cells": [
  {
   "cell_type": "code",
   "execution_count": 1,
   "id": "4f6ea002-b408-4ab2-b6bc-c63ac3aeeed0",
   "metadata": {},
   "outputs": [],
   "source": [
    "from tabletop.constants import DT, XML_DIR, ALOHA_XML_DIR, START_ARM_POSE, ONEARM_START_ARM_POSE"
   ]
  },
  {
   "cell_type": "code",
   "execution_count": 2,
   "id": "21c22294-b359-4b98-9408-220e9606a427",
   "metadata": {},
   "outputs": [],
   "source": [
    "from dm_control import mujoco\n",
    "from dm_control.rl import control\n",
    "from dm_control.suite import base\n",
    "import os\n",
    "from tabletop.ee_sim_env import AlohaEETask\n",
    "\n",
    "xml_path = os.path.join(ALOHA_XML_DIR, f'scene_EE.xml')\n",
    "physics = mujoco.Physics.from_xml_path(xml_path)\n",
    "task = AlohaEETask()\n",
    "env = control.Environment(physics, task, time_limit=20, control_timestep=DT, n_sub_steps=None, flat_observation=False)"
   ]
  },
  {
   "cell_type": "code",
   "execution_count": 3,
   "id": "60bb2875-a0f7-4cdb-9db7-6360e04ba601",
   "metadata": {},
   "outputs": [
    {
     "data": {
      "text/plain": [
       "16"
      ]
     },
     "execution_count": 3,
     "metadata": {},
     "output_type": "execute_result"
    }
   ],
   "source": [
    "len(physics.data.qpos)"
   ]
  },
  {
   "cell_type": "code",
   "execution_count": 4,
   "id": "ef3b1cfc-442d-49e8-93a9-a4bd9197ae69",
   "metadata": {},
   "outputs": [
    {
     "name": "stdout",
     "output_type": "stream",
     "text": [
      "[ 0.     -0.96    1.16    0.     -0.3     0.      0.0084  0.0084  0.\n",
      " -0.96    1.16    0.     -0.3     0.      0.0084  0.0084]\n"
     ]
    }
   ],
   "source": [
    "ts = env.reset()\n",
    "print(physics.data.qpos)"
   ]
  },
  {
   "cell_type": "code",
   "execution_count": 5,
   "id": "370e6d7d-e916-48d4-8efe-628a13906ba4",
   "metadata": {},
   "outputs": [],
   "source": [
    "import matplotlib.pyplot as plt\n",
    "action = [-0.2, 0.2, 0, 0, 0, 0, 1, -0.2, 0.2, 0, 0, 0, 0, 1]\n",
    "img_list = []\n",
    "for i in range(300):\n",
    "    ts = env.step(action)\n",
    "    img_list.append(ts.observation['images']['front'])"
   ]
  },
  {
   "cell_type": "code",
   "execution_count": 6,
   "id": "6010d6e2-b3cd-41a4-addd-326748a737e4",
   "metadata": {},
   "outputs": [
    {
     "name": "stdout",
     "output_type": "stream",
     "text": [
      "480 640\n"
     ]
    }
   ],
   "source": [
    "import cv2\n",
    "fourcc = cv2.VideoWriter_fourcc(*'mp4v')  # 'mp4v' for MP4 format\n",
    "height, width, _ = img_list[0].shape\n",
    "print(height, width)\n",
    "out = cv2.VideoWriter(f'output_aloha.mp4', fourcc, 50, (width, height))\n",
    "for img in img_list:\n",
    "    out.write(img)\n",
    "out.release()"
   ]
  },
  {
   "cell_type": "code",
   "execution_count": null,
   "id": "ceebf2c8-5d85-4e46-9fed-85276bb63d82",
   "metadata": {},
   "outputs": [],
   "source": []
  }
 ],
 "metadata": {
  "kernelspec": {
   "display_name": "Python 3 (ipykernel)",
   "language": "python",
   "name": "python3"
  },
  "language_info": {
   "codemirror_mode": {
    "name": "ipython",
    "version": 3
   },
   "file_extension": ".py",
   "mimetype": "text/x-python",
   "name": "python",
   "nbconvert_exporter": "python",
   "pygments_lexer": "ipython3",
   "version": "3.10.15"
  }
 },
 "nbformat": 4,
 "nbformat_minor": 5
}
